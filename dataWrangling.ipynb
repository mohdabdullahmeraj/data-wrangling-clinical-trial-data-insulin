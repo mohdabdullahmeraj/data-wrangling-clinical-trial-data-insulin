{
 "cells": [
  {
   "cell_type": "markdown",
   "id": "4e8c9ff6",
   "metadata": {},
   "source": [
    "# Data Wrangling : Clinical trial data for a new oral insulin"
   ]
  },
  {
   "cell_type": "markdown",
   "id": "2c58dbcd",
   "metadata": {},
   "source": [
    "## Introduction\n",
    "\n",
    "The increasing prevalence of diabetes in the 21st century is a problem, an epidemic even. Pre 1920s, diabetes was a feared disease, that most certainly led to death. Luckily, in the 1920s, a secretion in the pancreas that lowered blood sugar levels, soon to be called insulin, was discovered by soon to be Nobel Prize winner Frederick Banting.\n",
    "\n",
    "People with severe diabetes, and only days left to live were saved, but the default method of administration back then was a needle, multiple times a day, and it still is now. This is scary for some people and uncomfortable and inconvenient for the vast majority. The future : Oral insulin. This is an active area of research, and has been for a long time. Historically though there's been a big roadblock, getting insulin through the stomachs thick lining.\n",
    "\n",
    "In this project, we've got our hands on the phase two clinical trial data for a new innovative oral insulin called auralin. Auralin researchers believe their proprietary capsule will solve this stomach lining problem. Phase two trials test the efficacy and the dose response of a drug, plus identify common short term side effects, also known as adverse reactions. These typically involve several hundred patients.\n",
    "\n",
    "350 patients participated in this clinical trial. None of the patients were using Novodra (a popular injectable insulin) or Auralin (the oral insulin being researched) as their primary source of insulin before. All were experiencing elevated HbA1c levels.\n",
    "\n",
    "All 350 patients were treated with Novodra to establish a baseline HbA1c level and insulin dose. After four weeks, which isn’t enough time to capture all the change in HbA1c that can be attributed by the switch to Auralin or Novodra:\n",
    "\n",
    "175 patients switched to Auralin for 24 weeks\n",
    "175 patients continued using Novodra for 24 weeks"
   ]
  },
  {
   "cell_type": "markdown",
   "id": "073e71ed",
   "metadata": {},
   "source": [
    "## Part I - Gathering data\n",
    "\n",
    "This Auralin Phase II clinical trial dataset comes in three tables: `patients`, `treatments`, and `adverse_reactions`. Acquaint yourself with them through visual assessment below."
   ]
  },
  {
   "cell_type": "code",
   "execution_count": 1,
   "id": "f62877d3",
   "metadata": {},
   "outputs": [],
   "source": [
    "import pandas as pd"
   ]
  },
  {
   "cell_type": "code",
   "execution_count": 2,
   "id": "94a719ed",
   "metadata": {},
   "outputs": [],
   "source": [
    "patients = pd.read_csv('patients.csv')\n",
    "treatments = pd.read_csv('treatments.csv')\n",
    "adverse_reactions = pd.read_csv('adverse_reactions.csv')"
   ]
  },
  {
   "cell_type": "code",
   "execution_count": 3,
   "id": "a69d6c95",
   "metadata": {},
   "outputs": [
    {
     "data": {
      "text/html": [
       "<div>\n",
       "<style scoped>\n",
       "    .dataframe tbody tr th:only-of-type {\n",
       "        vertical-align: middle;\n",
       "    }\n",
       "\n",
       "    .dataframe tbody tr th {\n",
       "        vertical-align: top;\n",
       "    }\n",
       "\n",
       "    .dataframe thead th {\n",
       "        text-align: right;\n",
       "    }\n",
       "</style>\n",
       "<table border=\"1\" class=\"dataframe\">\n",
       "  <thead>\n",
       "    <tr style=\"text-align: right;\">\n",
       "      <th></th>\n",
       "      <th>patient_id</th>\n",
       "      <th>assigned_sex</th>\n",
       "      <th>given_name</th>\n",
       "      <th>surname</th>\n",
       "      <th>address</th>\n",
       "      <th>city</th>\n",
       "      <th>state</th>\n",
       "      <th>zip_code</th>\n",
       "      <th>country</th>\n",
       "      <th>contact</th>\n",
       "      <th>birthdate</th>\n",
       "      <th>weight</th>\n",
       "      <th>height</th>\n",
       "      <th>bmi</th>\n",
       "    </tr>\n",
       "  </thead>\n",
       "  <tbody>\n",
       "    <tr>\n",
       "      <th>0</th>\n",
       "      <td>1</td>\n",
       "      <td>female</td>\n",
       "      <td>Zoe</td>\n",
       "      <td>Wellish</td>\n",
       "      <td>576 Brown Bear Drive</td>\n",
       "      <td>Rancho California</td>\n",
       "      <td>California</td>\n",
       "      <td>92390.0</td>\n",
       "      <td>United States</td>\n",
       "      <td>951-719-9170ZoeWellish@superrito.com</td>\n",
       "      <td>7/10/1976</td>\n",
       "      <td>121.7</td>\n",
       "      <td>66</td>\n",
       "      <td>19.6</td>\n",
       "    </tr>\n",
       "    <tr>\n",
       "      <th>1</th>\n",
       "      <td>2</td>\n",
       "      <td>female</td>\n",
       "      <td>Pamela</td>\n",
       "      <td>Hill</td>\n",
       "      <td>2370 University Hill Road</td>\n",
       "      <td>Armstrong</td>\n",
       "      <td>Illinois</td>\n",
       "      <td>61812.0</td>\n",
       "      <td>United States</td>\n",
       "      <td>PamelaSHill@cuvox.de+1 (217) 569-3204</td>\n",
       "      <td>4/3/1967</td>\n",
       "      <td>118.8</td>\n",
       "      <td>66</td>\n",
       "      <td>19.2</td>\n",
       "    </tr>\n",
       "    <tr>\n",
       "      <th>2</th>\n",
       "      <td>3</td>\n",
       "      <td>male</td>\n",
       "      <td>Jae</td>\n",
       "      <td>Debord</td>\n",
       "      <td>1493 Poling Farm Road</td>\n",
       "      <td>York</td>\n",
       "      <td>Nebraska</td>\n",
       "      <td>68467.0</td>\n",
       "      <td>United States</td>\n",
       "      <td>402-363-6804JaeMDebord@gustr.com</td>\n",
       "      <td>2/19/1980</td>\n",
       "      <td>177.8</td>\n",
       "      <td>71</td>\n",
       "      <td>24.8</td>\n",
       "    </tr>\n",
       "    <tr>\n",
       "      <th>3</th>\n",
       "      <td>4</td>\n",
       "      <td>male</td>\n",
       "      <td>Liêm</td>\n",
       "      <td>Phan</td>\n",
       "      <td>2335 Webster Street</td>\n",
       "      <td>Woodbridge</td>\n",
       "      <td>NJ</td>\n",
       "      <td>7095.0</td>\n",
       "      <td>United States</td>\n",
       "      <td>PhanBaLiem@jourrapide.com+1 (732) 636-8246</td>\n",
       "      <td>7/26/1951</td>\n",
       "      <td>220.9</td>\n",
       "      <td>70</td>\n",
       "      <td>31.7</td>\n",
       "    </tr>\n",
       "    <tr>\n",
       "      <th>4</th>\n",
       "      <td>5</td>\n",
       "      <td>male</td>\n",
       "      <td>Tim</td>\n",
       "      <td>Neudorf</td>\n",
       "      <td>1428 Turkey Pen Lane</td>\n",
       "      <td>Dothan</td>\n",
       "      <td>AL</td>\n",
       "      <td>36303.0</td>\n",
       "      <td>United States</td>\n",
       "      <td>334-515-7487TimNeudorf@cuvox.de</td>\n",
       "      <td>2/18/1928</td>\n",
       "      <td>192.3</td>\n",
       "      <td>27</td>\n",
       "      <td>26.1</td>\n",
       "    </tr>\n",
       "  </tbody>\n",
       "</table>\n",
       "</div>"
      ],
      "text/plain": [
       "   patient_id assigned_sex given_name  surname                    address  \\\n",
       "0           1       female        Zoe  Wellish       576 Brown Bear Drive   \n",
       "1           2       female     Pamela     Hill  2370 University Hill Road   \n",
       "2           3         male        Jae   Debord      1493 Poling Farm Road   \n",
       "3           4         male       Liêm     Phan        2335 Webster Street   \n",
       "4           5         male        Tim  Neudorf       1428 Turkey Pen Lane   \n",
       "\n",
       "                city       state  zip_code        country  \\\n",
       "0  Rancho California  California   92390.0  United States   \n",
       "1          Armstrong    Illinois   61812.0  United States   \n",
       "2               York    Nebraska   68467.0  United States   \n",
       "3         Woodbridge          NJ    7095.0  United States   \n",
       "4             Dothan          AL   36303.0  United States   \n",
       "\n",
       "                                      contact  birthdate  weight  height   bmi  \n",
       "0        951-719-9170ZoeWellish@superrito.com  7/10/1976   121.7      66  19.6  \n",
       "1       PamelaSHill@cuvox.de+1 (217) 569-3204   4/3/1967   118.8      66  19.2  \n",
       "2            402-363-6804JaeMDebord@gustr.com  2/19/1980   177.8      71  24.8  \n",
       "3  PhanBaLiem@jourrapide.com+1 (732) 636-8246  7/26/1951   220.9      70  31.7  \n",
       "4             334-515-7487TimNeudorf@cuvox.de  2/18/1928   192.3      27  26.1  "
      ]
     },
     "execution_count": 3,
     "metadata": {},
     "output_type": "execute_result"
    }
   ],
   "source": [
    "patients.head()"
   ]
  },
  {
   "cell_type": "code",
   "execution_count": 4,
   "id": "75675484",
   "metadata": {},
   "outputs": [
    {
     "name": "stdout",
     "output_type": "stream",
     "text": [
      "<class 'pandas.core.frame.DataFrame'>\n",
      "RangeIndex: 503 entries, 0 to 502\n",
      "Data columns (total 14 columns):\n",
      " #   Column        Non-Null Count  Dtype  \n",
      "---  ------        --------------  -----  \n",
      " 0   patient_id    503 non-null    int64  \n",
      " 1   assigned_sex  503 non-null    object \n",
      " 2   given_name    503 non-null    object \n",
      " 3   surname       503 non-null    object \n",
      " 4   address       491 non-null    object \n",
      " 5   city          491 non-null    object \n",
      " 6   state         491 non-null    object \n",
      " 7   zip_code      491 non-null    float64\n",
      " 8   country       491 non-null    object \n",
      " 9   contact       491 non-null    object \n",
      " 10  birthdate     503 non-null    object \n",
      " 11  weight        503 non-null    float64\n",
      " 12  height        503 non-null    int64  \n",
      " 13  bmi           503 non-null    float64\n",
      "dtypes: float64(3), int64(2), object(9)\n",
      "memory usage: 55.1+ KB\n"
     ]
    }
   ],
   "source": [
    "patients.info()"
   ]
  },
  {
   "cell_type": "markdown",
   "id": "acfd70f4",
   "metadata": {},
   "source": [
    "- Missing demographic info\n",
    "- Erroneous datatype (assigned_sex, zipcode, birthdate)"
   ]
  },
  {
   "cell_type": "code",
   "execution_count": 5,
   "id": "51bd7fe1",
   "metadata": {},
   "outputs": [
    {
     "data": {
      "text/html": [
       "<div>\n",
       "<style scoped>\n",
       "    .dataframe tbody tr th:only-of-type {\n",
       "        vertical-align: middle;\n",
       "    }\n",
       "\n",
       "    .dataframe tbody tr th {\n",
       "        vertical-align: top;\n",
       "    }\n",
       "\n",
       "    .dataframe thead th {\n",
       "        text-align: right;\n",
       "    }\n",
       "</style>\n",
       "<table border=\"1\" class=\"dataframe\">\n",
       "  <thead>\n",
       "    <tr style=\"text-align: right;\">\n",
       "      <th></th>\n",
       "      <th>patient_id</th>\n",
       "      <th>zip_code</th>\n",
       "      <th>weight</th>\n",
       "      <th>height</th>\n",
       "      <th>bmi</th>\n",
       "    </tr>\n",
       "  </thead>\n",
       "  <tbody>\n",
       "    <tr>\n",
       "      <th>count</th>\n",
       "      <td>503.000000</td>\n",
       "      <td>491.000000</td>\n",
       "      <td>503.000000</td>\n",
       "      <td>503.000000</td>\n",
       "      <td>503.000000</td>\n",
       "    </tr>\n",
       "    <tr>\n",
       "      <th>mean</th>\n",
       "      <td>252.000000</td>\n",
       "      <td>49084.118126</td>\n",
       "      <td>173.434990</td>\n",
       "      <td>66.634195</td>\n",
       "      <td>27.483897</td>\n",
       "    </tr>\n",
       "    <tr>\n",
       "      <th>std</th>\n",
       "      <td>145.347859</td>\n",
       "      <td>30265.807442</td>\n",
       "      <td>33.916741</td>\n",
       "      <td>4.411297</td>\n",
       "      <td>5.276438</td>\n",
       "    </tr>\n",
       "    <tr>\n",
       "      <th>min</th>\n",
       "      <td>1.000000</td>\n",
       "      <td>1002.000000</td>\n",
       "      <td>48.800000</td>\n",
       "      <td>27.000000</td>\n",
       "      <td>17.100000</td>\n",
       "    </tr>\n",
       "    <tr>\n",
       "      <th>25%</th>\n",
       "      <td>126.500000</td>\n",
       "      <td>21920.500000</td>\n",
       "      <td>149.300000</td>\n",
       "      <td>63.000000</td>\n",
       "      <td>23.300000</td>\n",
       "    </tr>\n",
       "    <tr>\n",
       "      <th>50%</th>\n",
       "      <td>252.000000</td>\n",
       "      <td>48057.000000</td>\n",
       "      <td>175.300000</td>\n",
       "      <td>67.000000</td>\n",
       "      <td>27.200000</td>\n",
       "    </tr>\n",
       "    <tr>\n",
       "      <th>75%</th>\n",
       "      <td>377.500000</td>\n",
       "      <td>75679.000000</td>\n",
       "      <td>199.500000</td>\n",
       "      <td>70.000000</td>\n",
       "      <td>31.750000</td>\n",
       "    </tr>\n",
       "    <tr>\n",
       "      <th>max</th>\n",
       "      <td>503.000000</td>\n",
       "      <td>99701.000000</td>\n",
       "      <td>255.900000</td>\n",
       "      <td>79.000000</td>\n",
       "      <td>37.700000</td>\n",
       "    </tr>\n",
       "  </tbody>\n",
       "</table>\n",
       "</div>"
      ],
      "text/plain": [
       "       patient_id      zip_code      weight      height         bmi\n",
       "count  503.000000    491.000000  503.000000  503.000000  503.000000\n",
       "mean   252.000000  49084.118126  173.434990   66.634195   27.483897\n",
       "std    145.347859  30265.807442   33.916741    4.411297    5.276438\n",
       "min      1.000000   1002.000000   48.800000   27.000000   17.100000\n",
       "25%    126.500000  21920.500000  149.300000   63.000000   23.300000\n",
       "50%    252.000000  48057.000000  175.300000   67.000000   27.200000\n",
       "75%    377.500000  75679.000000  199.500000   70.000000   31.750000\n",
       "max    503.000000  99701.000000  255.900000   79.000000   37.700000"
      ]
     },
     "execution_count": 5,
     "metadata": {},
     "output_type": "execute_result"
    }
   ],
   "source": [
    "patients.describe()"
   ]
  },
  {
   "cell_type": "markdown",
   "id": "42f42b87",
   "metadata": {},
   "source": [
    "\n",
    "- zip code is a float instead of string\n",
    "- zip code sometimes is 4 digits instead of 5 ( minimum value 1002)\n",
    "- height variable minimum value is 27 inches !!! given that the inclusion criteria of this clinical trial is 18 years old this doesn't seems like a plausible adult height.\n",
    "- weight variable minimum value is 48.8 lbs !!! given that the inclusion criteria of this clinical trial is 18 years old this doesn't seems like a plausible adult weight."
   ]
  },
  {
   "cell_type": "code",
   "execution_count": 6,
   "id": "047e7020",
   "metadata": {},
   "outputs": [
    {
     "data": {
      "text/html": [
       "<div>\n",
       "<style scoped>\n",
       "    .dataframe tbody tr th:only-of-type {\n",
       "        vertical-align: middle;\n",
       "    }\n",
       "\n",
       "    .dataframe tbody tr th {\n",
       "        vertical-align: top;\n",
       "    }\n",
       "\n",
       "    .dataframe thead th {\n",
       "        text-align: right;\n",
       "    }\n",
       "</style>\n",
       "<table border=\"1\" class=\"dataframe\">\n",
       "  <thead>\n",
       "    <tr style=\"text-align: right;\">\n",
       "      <th></th>\n",
       "      <th>patient_id</th>\n",
       "      <th>assigned_sex</th>\n",
       "      <th>given_name</th>\n",
       "      <th>surname</th>\n",
       "      <th>address</th>\n",
       "      <th>city</th>\n",
       "      <th>state</th>\n",
       "      <th>zip_code</th>\n",
       "      <th>country</th>\n",
       "      <th>contact</th>\n",
       "      <th>birthdate</th>\n",
       "      <th>weight</th>\n",
       "      <th>height</th>\n",
       "      <th>bmi</th>\n",
       "    </tr>\n",
       "  </thead>\n",
       "  <tbody>\n",
       "    <tr>\n",
       "      <th>4</th>\n",
       "      <td>5</td>\n",
       "      <td>male</td>\n",
       "      <td>Tim</td>\n",
       "      <td>Neudorf</td>\n",
       "      <td>1428 Turkey Pen Lane</td>\n",
       "      <td>Dothan</td>\n",
       "      <td>AL</td>\n",
       "      <td>36303.0</td>\n",
       "      <td>United States</td>\n",
       "      <td>334-515-7487TimNeudorf@cuvox.de</td>\n",
       "      <td>2/18/1928</td>\n",
       "      <td>192.3</td>\n",
       "      <td>27</td>\n",
       "      <td>26.1</td>\n",
       "    </tr>\n",
       "  </tbody>\n",
       "</table>\n",
       "</div>"
      ],
      "text/plain": [
       "   patient_id assigned_sex given_name  surname               address    city  \\\n",
       "4           5         male        Tim  Neudorf  1428 Turkey Pen Lane  Dothan   \n",
       "\n",
       "  state  zip_code        country                          contact  birthdate  \\\n",
       "4    AL   36303.0  United States  334-515-7487TimNeudorf@cuvox.de  2/18/1928   \n",
       "\n",
       "   weight  height   bmi  \n",
       "4   192.3      27  26.1  "
      ]
     },
     "execution_count": 6,
     "metadata": {},
     "output_type": "execute_result"
    }
   ],
   "source": [
    "patients.query('height == 27')"
   ]
  },
  {
   "cell_type": "code",
   "execution_count": 7,
   "id": "e7efcbb8",
   "metadata": {},
   "outputs": [
    {
     "data": {
      "text/plain": [
       "185.44156378600823"
      ]
     },
     "execution_count": 7,
     "metadata": {},
     "output_type": "execute_result"
    }
   ],
   "source": [
    "\n",
    "weight_lbs = 192.3\n",
    "height_in = 27\n",
    "BMI = 703 * weight_lbs / (height_in*height_in)\n",
    "BMI"
   ]
  },
  {
   "cell_type": "code",
   "execution_count": 8,
   "id": "772aa725",
   "metadata": {},
   "outputs": [
    {
     "data": {
      "text/plain": [
       "26.077719907407406"
      ]
     },
     "execution_count": 8,
     "metadata": {},
     "output_type": "execute_result"
    }
   ],
   "source": [
    "# A BMI of 185 it's just can't be possible. Maybe it's a data entry error : 27 instead of 72\n",
    "\n",
    "height_in = 72\n",
    "BMI_check = 703 * weight_lbs / (height_in*height_in)\n",
    "BMI_check\n"
   ]
  },
  {
   "cell_type": "code",
   "execution_count": 9,
   "id": "ab8d91eb",
   "metadata": {},
   "outputs": [
    {
     "data": {
      "text/html": [
       "<div>\n",
       "<style scoped>\n",
       "    .dataframe tbody tr th:only-of-type {\n",
       "        vertical-align: middle;\n",
       "    }\n",
       "\n",
       "    .dataframe tbody tr th {\n",
       "        vertical-align: top;\n",
       "    }\n",
       "\n",
       "    .dataframe thead th {\n",
       "        text-align: right;\n",
       "    }\n",
       "</style>\n",
       "<table border=\"1\" class=\"dataframe\">\n",
       "  <thead>\n",
       "    <tr style=\"text-align: right;\">\n",
       "      <th></th>\n",
       "      <th>patient_id</th>\n",
       "      <th>assigned_sex</th>\n",
       "      <th>given_name</th>\n",
       "      <th>surname</th>\n",
       "      <th>address</th>\n",
       "      <th>city</th>\n",
       "      <th>state</th>\n",
       "      <th>zip_code</th>\n",
       "      <th>country</th>\n",
       "      <th>contact</th>\n",
       "      <th>birthdate</th>\n",
       "      <th>weight</th>\n",
       "      <th>height</th>\n",
       "      <th>bmi</th>\n",
       "    </tr>\n",
       "  </thead>\n",
       "  <tbody>\n",
       "    <tr>\n",
       "      <th>210</th>\n",
       "      <td>211</td>\n",
       "      <td>female</td>\n",
       "      <td>Camilla</td>\n",
       "      <td>Zaitseva</td>\n",
       "      <td>4689 Briarhill Lane</td>\n",
       "      <td>Wooster</td>\n",
       "      <td>OH</td>\n",
       "      <td>44691.0</td>\n",
       "      <td>United States</td>\n",
       "      <td>330-202-2145CamillaZaitseva@superrito.com</td>\n",
       "      <td>11/26/1938</td>\n",
       "      <td>48.8</td>\n",
       "      <td>63</td>\n",
       "      <td>19.1</td>\n",
       "    </tr>\n",
       "  </tbody>\n",
       "</table>\n",
       "</div>"
      ],
      "text/plain": [
       "     patient_id assigned_sex given_name   surname              address  \\\n",
       "210         211       female    Camilla  Zaitseva  4689 Briarhill Lane   \n",
       "\n",
       "        city state  zip_code        country  \\\n",
       "210  Wooster    OH   44691.0  United States   \n",
       "\n",
       "                                       contact   birthdate  weight  height  \\\n",
       "210  330-202-2145CamillaZaitseva@superrito.com  11/26/1938    48.8      63   \n",
       "\n",
       "      bmi  \n",
       "210  19.1  "
      ]
     },
     "execution_count": 9,
     "metadata": {},
     "output_type": "execute_result"
    }
   ],
   "source": [
    "patients.query(\"weight == 48.8\")"
   ]
  },
  {
   "cell_type": "code",
   "execution_count": 10,
   "id": "14a54575",
   "metadata": {},
   "outputs": [
    {
     "data": {
      "text/plain": [
       "19.05582654774502"
      ]
     },
     "execution_count": 10,
     "metadata": {},
     "output_type": "execute_result"
    }
   ],
   "source": [
    "weight_lbs = 48.8*2.20462 # 2.20462 is the concersion factor between kilograms and pounds\n",
    "height_in = 63\n",
    "BMI = 703 * weight_lbs / (height_in*height_in)\n",
    "BMI"
   ]
  },
  {
   "cell_type": "code",
   "execution_count": 11,
   "id": "ea07eec7",
   "metadata": {},
   "outputs": [
    {
     "data": {
      "text/plain": [
       "210    19.1\n",
       "Name: bmi, dtype: float64"
      ]
     },
     "execution_count": 11,
     "metadata": {},
     "output_type": "execute_result"
    }
   ],
   "source": [
    "\n",
    "patients.query(\"weight == 48.8\").bmi\n"
   ]
  },
  {
   "cell_type": "code",
   "execution_count": 12,
   "id": "588b7a7d",
   "metadata": {},
   "outputs": [
    {
     "data": {
      "text/plain": [
       "state\n",
       "California    36\n",
       "TX            32\n",
       "New York      25\n",
       "CA            24\n",
       "NY            22\n",
       "MA            22\n",
       "PA            18\n",
       "GA            15\n",
       "OH            14\n",
       "Illinois      14\n",
       "LA            13\n",
       "MI            13\n",
       "OK            13\n",
       "Florida       13\n",
       "NJ            12\n",
       "VA            11\n",
       "IL            10\n",
       "MS            10\n",
       "WI            10\n",
       "AL             9\n",
       "TN             9\n",
       "IN             9\n",
       "MN             9\n",
       "FL             9\n",
       "KY             8\n",
       "NC             8\n",
       "WA             8\n",
       "MO             7\n",
       "KS             6\n",
       "NV             6\n",
       "ID             6\n",
       "CT             5\n",
       "SC             5\n",
       "IA             5\n",
       "AR             4\n",
       "ME             4\n",
       "Nebraska       4\n",
       "AZ             4\n",
       "CO             4\n",
       "ND             4\n",
       "RI             4\n",
       "WV             3\n",
       "OR             3\n",
       "MD             3\n",
       "SD             3\n",
       "DE             3\n",
       "VT             2\n",
       "MT             2\n",
       "DC             2\n",
       "NE             2\n",
       "NM             1\n",
       "WY             1\n",
       "AK             1\n",
       "NH             1\n",
       "Name: count, dtype: int64"
      ]
     },
     "execution_count": 12,
     "metadata": {},
     "output_type": "execute_result"
    }
   ],
   "source": [
    "patients.state.value_counts()"
   ]
  },
  {
   "cell_type": "markdown",
   "id": "bdc506a4",
   "metadata": {},
   "source": [
    "\n",
    "there are two representation name for some states : the full name and the abreviation. these states are -California : CA -New York : NY -Illinois : IL -Florida : FL -Nebraska : NE"
   ]
  },
  {
   "cell_type": "code",
   "execution_count": 13,
   "id": "4967f755",
   "metadata": {},
   "outputs": [
    {
     "data": {
      "text/html": [
       "<div>\n",
       "<style scoped>\n",
       "    .dataframe tbody tr th:only-of-type {\n",
       "        vertical-align: middle;\n",
       "    }\n",
       "\n",
       "    .dataframe tbody tr th {\n",
       "        vertical-align: top;\n",
       "    }\n",
       "\n",
       "    .dataframe thead th {\n",
       "        text-align: right;\n",
       "    }\n",
       "</style>\n",
       "<table border=\"1\" class=\"dataframe\">\n",
       "  <thead>\n",
       "    <tr style=\"text-align: right;\">\n",
       "      <th></th>\n",
       "      <th>patient_id</th>\n",
       "      <th>assigned_sex</th>\n",
       "      <th>given_name</th>\n",
       "      <th>surname</th>\n",
       "      <th>address</th>\n",
       "      <th>city</th>\n",
       "      <th>state</th>\n",
       "      <th>zip_code</th>\n",
       "      <th>country</th>\n",
       "      <th>contact</th>\n",
       "      <th>birthdate</th>\n",
       "      <th>weight</th>\n",
       "      <th>height</th>\n",
       "      <th>bmi</th>\n",
       "    </tr>\n",
       "  </thead>\n",
       "  <tbody>\n",
       "    <tr>\n",
       "      <th>29</th>\n",
       "      <td>30</td>\n",
       "      <td>male</td>\n",
       "      <td>Jake</td>\n",
       "      <td>Jakobsen</td>\n",
       "      <td>648 Old Dear Lane</td>\n",
       "      <td>Port Jervis</td>\n",
       "      <td>New York</td>\n",
       "      <td>12771.0</td>\n",
       "      <td>United States</td>\n",
       "      <td>JakobCJakobsen@einrot.com+1 (845) 858-7707</td>\n",
       "      <td>8/1/1985</td>\n",
       "      <td>155.8</td>\n",
       "      <td>67</td>\n",
       "      <td>24.4</td>\n",
       "    </tr>\n",
       "    <tr>\n",
       "      <th>219</th>\n",
       "      <td>220</td>\n",
       "      <td>male</td>\n",
       "      <td>Mỹ</td>\n",
       "      <td>Quynh</td>\n",
       "      <td>NaN</td>\n",
       "      <td>NaN</td>\n",
       "      <td>NaN</td>\n",
       "      <td>NaN</td>\n",
       "      <td>NaN</td>\n",
       "      <td>NaN</td>\n",
       "      <td>4/9/1978</td>\n",
       "      <td>237.8</td>\n",
       "      <td>69</td>\n",
       "      <td>35.1</td>\n",
       "    </tr>\n",
       "    <tr>\n",
       "      <th>229</th>\n",
       "      <td>230</td>\n",
       "      <td>male</td>\n",
       "      <td>John</td>\n",
       "      <td>Doe</td>\n",
       "      <td>123 Main Street</td>\n",
       "      <td>New York</td>\n",
       "      <td>NY</td>\n",
       "      <td>12345.0</td>\n",
       "      <td>United States</td>\n",
       "      <td>johndoe@email.com1234567890</td>\n",
       "      <td>1/1/1975</td>\n",
       "      <td>180.0</td>\n",
       "      <td>72</td>\n",
       "      <td>24.4</td>\n",
       "    </tr>\n",
       "    <tr>\n",
       "      <th>230</th>\n",
       "      <td>231</td>\n",
       "      <td>female</td>\n",
       "      <td>Elisabeth</td>\n",
       "      <td>Knudsen</td>\n",
       "      <td>NaN</td>\n",
       "      <td>NaN</td>\n",
       "      <td>NaN</td>\n",
       "      <td>NaN</td>\n",
       "      <td>NaN</td>\n",
       "      <td>NaN</td>\n",
       "      <td>9/23/1976</td>\n",
       "      <td>165.9</td>\n",
       "      <td>63</td>\n",
       "      <td>29.4</td>\n",
       "    </tr>\n",
       "    <tr>\n",
       "      <th>234</th>\n",
       "      <td>235</td>\n",
       "      <td>female</td>\n",
       "      <td>Martina</td>\n",
       "      <td>Tománková</td>\n",
       "      <td>NaN</td>\n",
       "      <td>NaN</td>\n",
       "      <td>NaN</td>\n",
       "      <td>NaN</td>\n",
       "      <td>NaN</td>\n",
       "      <td>NaN</td>\n",
       "      <td>4/7/1936</td>\n",
       "      <td>199.5</td>\n",
       "      <td>65</td>\n",
       "      <td>33.2</td>\n",
       "    </tr>\n",
       "    <tr>\n",
       "      <th>237</th>\n",
       "      <td>238</td>\n",
       "      <td>male</td>\n",
       "      <td>John</td>\n",
       "      <td>Doe</td>\n",
       "      <td>123 Main Street</td>\n",
       "      <td>New York</td>\n",
       "      <td>NY</td>\n",
       "      <td>12345.0</td>\n",
       "      <td>United States</td>\n",
       "      <td>johndoe@email.com1234567890</td>\n",
       "      <td>1/1/1975</td>\n",
       "      <td>180.0</td>\n",
       "      <td>72</td>\n",
       "      <td>24.4</td>\n",
       "    </tr>\n",
       "    <tr>\n",
       "      <th>242</th>\n",
       "      <td>243</td>\n",
       "      <td>male</td>\n",
       "      <td>John</td>\n",
       "      <td>O'Brian</td>\n",
       "      <td>NaN</td>\n",
       "      <td>NaN</td>\n",
       "      <td>NaN</td>\n",
       "      <td>NaN</td>\n",
       "      <td>NaN</td>\n",
       "      <td>NaN</td>\n",
       "      <td>2/25/1957</td>\n",
       "      <td>205.3</td>\n",
       "      <td>74</td>\n",
       "      <td>26.4</td>\n",
       "    </tr>\n",
       "    <tr>\n",
       "      <th>244</th>\n",
       "      <td>245</td>\n",
       "      <td>male</td>\n",
       "      <td>John</td>\n",
       "      <td>Doe</td>\n",
       "      <td>123 Main Street</td>\n",
       "      <td>New York</td>\n",
       "      <td>NY</td>\n",
       "      <td>12345.0</td>\n",
       "      <td>United States</td>\n",
       "      <td>johndoe@email.com1234567890</td>\n",
       "      <td>1/1/1975</td>\n",
       "      <td>180.0</td>\n",
       "      <td>72</td>\n",
       "      <td>24.4</td>\n",
       "    </tr>\n",
       "    <tr>\n",
       "      <th>249</th>\n",
       "      <td>250</td>\n",
       "      <td>male</td>\n",
       "      <td>Benjamin</td>\n",
       "      <td>Mehler</td>\n",
       "      <td>NaN</td>\n",
       "      <td>NaN</td>\n",
       "      <td>NaN</td>\n",
       "      <td>NaN</td>\n",
       "      <td>NaN</td>\n",
       "      <td>NaN</td>\n",
       "      <td>10/30/1951</td>\n",
       "      <td>146.5</td>\n",
       "      <td>69</td>\n",
       "      <td>21.6</td>\n",
       "    </tr>\n",
       "    <tr>\n",
       "      <th>251</th>\n",
       "      <td>252</td>\n",
       "      <td>male</td>\n",
       "      <td>John</td>\n",
       "      <td>Doe</td>\n",
       "      <td>123 Main Street</td>\n",
       "      <td>New York</td>\n",
       "      <td>NY</td>\n",
       "      <td>12345.0</td>\n",
       "      <td>United States</td>\n",
       "      <td>johndoe@email.com1234567890</td>\n",
       "      <td>1/1/1975</td>\n",
       "      <td>180.0</td>\n",
       "      <td>72</td>\n",
       "      <td>24.4</td>\n",
       "    </tr>\n",
       "    <tr>\n",
       "      <th>257</th>\n",
       "      <td>258</td>\n",
       "      <td>male</td>\n",
       "      <td>Jin</td>\n",
       "      <td>Kung</td>\n",
       "      <td>NaN</td>\n",
       "      <td>NaN</td>\n",
       "      <td>NaN</td>\n",
       "      <td>NaN</td>\n",
       "      <td>NaN</td>\n",
       "      <td>NaN</td>\n",
       "      <td>5/17/1995</td>\n",
       "      <td>231.7</td>\n",
       "      <td>69</td>\n",
       "      <td>34.2</td>\n",
       "    </tr>\n",
       "    <tr>\n",
       "      <th>264</th>\n",
       "      <td>265</td>\n",
       "      <td>female</td>\n",
       "      <td>Wafiyyah</td>\n",
       "      <td>Asfour</td>\n",
       "      <td>NaN</td>\n",
       "      <td>NaN</td>\n",
       "      <td>NaN</td>\n",
       "      <td>NaN</td>\n",
       "      <td>NaN</td>\n",
       "      <td>NaN</td>\n",
       "      <td>11/3/1989</td>\n",
       "      <td>158.6</td>\n",
       "      <td>63</td>\n",
       "      <td>28.1</td>\n",
       "    </tr>\n",
       "    <tr>\n",
       "      <th>269</th>\n",
       "      <td>270</td>\n",
       "      <td>female</td>\n",
       "      <td>Flavia</td>\n",
       "      <td>Fiorentino</td>\n",
       "      <td>NaN</td>\n",
       "      <td>NaN</td>\n",
       "      <td>NaN</td>\n",
       "      <td>NaN</td>\n",
       "      <td>NaN</td>\n",
       "      <td>NaN</td>\n",
       "      <td>10/9/1937</td>\n",
       "      <td>175.2</td>\n",
       "      <td>61</td>\n",
       "      <td>33.1</td>\n",
       "    </tr>\n",
       "    <tr>\n",
       "      <th>277</th>\n",
       "      <td>278</td>\n",
       "      <td>male</td>\n",
       "      <td>John</td>\n",
       "      <td>Doe</td>\n",
       "      <td>123 Main Street</td>\n",
       "      <td>New York</td>\n",
       "      <td>NY</td>\n",
       "      <td>12345.0</td>\n",
       "      <td>United States</td>\n",
       "      <td>johndoe@email.com1234567890</td>\n",
       "      <td>1/1/1975</td>\n",
       "      <td>180.0</td>\n",
       "      <td>72</td>\n",
       "      <td>24.4</td>\n",
       "    </tr>\n",
       "    <tr>\n",
       "      <th>278</th>\n",
       "      <td>279</td>\n",
       "      <td>female</td>\n",
       "      <td>Generosa</td>\n",
       "      <td>Cabán</td>\n",
       "      <td>NaN</td>\n",
       "      <td>NaN</td>\n",
       "      <td>NaN</td>\n",
       "      <td>NaN</td>\n",
       "      <td>NaN</td>\n",
       "      <td>NaN</td>\n",
       "      <td>12/16/1962</td>\n",
       "      <td>124.3</td>\n",
       "      <td>69</td>\n",
       "      <td>18.4</td>\n",
       "    </tr>\n",
       "    <tr>\n",
       "      <th>282</th>\n",
       "      <td>283</td>\n",
       "      <td>female</td>\n",
       "      <td>Sandy</td>\n",
       "      <td>Taylor</td>\n",
       "      <td>2476 Fulton Street</td>\n",
       "      <td>Rainelle</td>\n",
       "      <td>WV</td>\n",
       "      <td>25962.0</td>\n",
       "      <td>United States</td>\n",
       "      <td>304-438-2648SandraCTaylor@dayrep.com</td>\n",
       "      <td>10/23/1960</td>\n",
       "      <td>206.1</td>\n",
       "      <td>64</td>\n",
       "      <td>35.4</td>\n",
       "    </tr>\n",
       "    <tr>\n",
       "      <th>286</th>\n",
       "      <td>287</td>\n",
       "      <td>male</td>\n",
       "      <td>Lewis</td>\n",
       "      <td>Webb</td>\n",
       "      <td>NaN</td>\n",
       "      <td>NaN</td>\n",
       "      <td>NaN</td>\n",
       "      <td>NaN</td>\n",
       "      <td>NaN</td>\n",
       "      <td>NaN</td>\n",
       "      <td>4/1/1979</td>\n",
       "      <td>155.3</td>\n",
       "      <td>68</td>\n",
       "      <td>23.6</td>\n",
       "    </tr>\n",
       "    <tr>\n",
       "      <th>296</th>\n",
       "      <td>297</td>\n",
       "      <td>female</td>\n",
       "      <td>Chỉ</td>\n",
       "      <td>Lâm</td>\n",
       "      <td>NaN</td>\n",
       "      <td>NaN</td>\n",
       "      <td>NaN</td>\n",
       "      <td>NaN</td>\n",
       "      <td>NaN</td>\n",
       "      <td>NaN</td>\n",
       "      <td>5/14/1990</td>\n",
       "      <td>181.1</td>\n",
       "      <td>63</td>\n",
       "      <td>32.1</td>\n",
       "    </tr>\n",
       "    <tr>\n",
       "      <th>502</th>\n",
       "      <td>503</td>\n",
       "      <td>male</td>\n",
       "      <td>Pat</td>\n",
       "      <td>Gersten</td>\n",
       "      <td>2778 North Avenue</td>\n",
       "      <td>Burr</td>\n",
       "      <td>Nebraska</td>\n",
       "      <td>68324.0</td>\n",
       "      <td>United States</td>\n",
       "      <td>PatrickGersten@rhyta.com402-848-4923</td>\n",
       "      <td>5/3/1954</td>\n",
       "      <td>138.2</td>\n",
       "      <td>71</td>\n",
       "      <td>19.3</td>\n",
       "    </tr>\n",
       "  </tbody>\n",
       "</table>\n",
       "</div>"
      ],
      "text/plain": [
       "     patient_id assigned_sex given_name     surname             address  \\\n",
       "29           30         male       Jake    Jakobsen   648 Old Dear Lane   \n",
       "219         220         male         Mỹ       Quynh                 NaN   \n",
       "229         230         male       John         Doe     123 Main Street   \n",
       "230         231       female  Elisabeth     Knudsen                 NaN   \n",
       "234         235       female    Martina   Tománková                 NaN   \n",
       "237         238         male       John         Doe     123 Main Street   \n",
       "242         243         male       John     O'Brian                 NaN   \n",
       "244         245         male       John         Doe     123 Main Street   \n",
       "249         250         male   Benjamin      Mehler                 NaN   \n",
       "251         252         male       John         Doe     123 Main Street   \n",
       "257         258         male        Jin        Kung                 NaN   \n",
       "264         265       female   Wafiyyah      Asfour                 NaN   \n",
       "269         270       female     Flavia  Fiorentino                 NaN   \n",
       "277         278         male       John         Doe     123 Main Street   \n",
       "278         279       female   Generosa       Cabán                 NaN   \n",
       "282         283       female      Sandy      Taylor  2476 Fulton Street   \n",
       "286         287         male      Lewis        Webb                 NaN   \n",
       "296         297       female        Chỉ         Lâm                 NaN   \n",
       "502         503         male        Pat     Gersten   2778 North Avenue   \n",
       "\n",
       "            city     state  zip_code        country  \\\n",
       "29   Port Jervis  New York   12771.0  United States   \n",
       "219          NaN       NaN       NaN            NaN   \n",
       "229     New York        NY   12345.0  United States   \n",
       "230          NaN       NaN       NaN            NaN   \n",
       "234          NaN       NaN       NaN            NaN   \n",
       "237     New York        NY   12345.0  United States   \n",
       "242          NaN       NaN       NaN            NaN   \n",
       "244     New York        NY   12345.0  United States   \n",
       "249          NaN       NaN       NaN            NaN   \n",
       "251     New York        NY   12345.0  United States   \n",
       "257          NaN       NaN       NaN            NaN   \n",
       "264          NaN       NaN       NaN            NaN   \n",
       "269          NaN       NaN       NaN            NaN   \n",
       "277     New York        NY   12345.0  United States   \n",
       "278          NaN       NaN       NaN            NaN   \n",
       "282     Rainelle        WV   25962.0  United States   \n",
       "286          NaN       NaN       NaN            NaN   \n",
       "296          NaN       NaN       NaN            NaN   \n",
       "502         Burr  Nebraska   68324.0  United States   \n",
       "\n",
       "                                        contact   birthdate  weight  height  \\\n",
       "29   JakobCJakobsen@einrot.com+1 (845) 858-7707    8/1/1985   155.8      67   \n",
       "219                                         NaN    4/9/1978   237.8      69   \n",
       "229                 johndoe@email.com1234567890    1/1/1975   180.0      72   \n",
       "230                                         NaN   9/23/1976   165.9      63   \n",
       "234                                         NaN    4/7/1936   199.5      65   \n",
       "237                 johndoe@email.com1234567890    1/1/1975   180.0      72   \n",
       "242                                         NaN   2/25/1957   205.3      74   \n",
       "244                 johndoe@email.com1234567890    1/1/1975   180.0      72   \n",
       "249                                         NaN  10/30/1951   146.5      69   \n",
       "251                 johndoe@email.com1234567890    1/1/1975   180.0      72   \n",
       "257                                         NaN   5/17/1995   231.7      69   \n",
       "264                                         NaN   11/3/1989   158.6      63   \n",
       "269                                         NaN   10/9/1937   175.2      61   \n",
       "277                 johndoe@email.com1234567890    1/1/1975   180.0      72   \n",
       "278                                         NaN  12/16/1962   124.3      69   \n",
       "282        304-438-2648SandraCTaylor@dayrep.com  10/23/1960   206.1      64   \n",
       "286                                         NaN    4/1/1979   155.3      68   \n",
       "296                                         NaN   5/14/1990   181.1      63   \n",
       "502        PatrickGersten@rhyta.com402-848-4923    5/3/1954   138.2      71   \n",
       "\n",
       "      bmi  \n",
       "29   24.4  \n",
       "219  35.1  \n",
       "229  24.4  \n",
       "230  29.4  \n",
       "234  33.2  \n",
       "237  24.4  \n",
       "242  26.4  \n",
       "244  24.4  \n",
       "249  21.6  \n",
       "251  24.4  \n",
       "257  34.2  \n",
       "264  28.1  \n",
       "269  33.1  \n",
       "277  24.4  \n",
       "278  18.4  \n",
       "282  35.4  \n",
       "286  23.6  \n",
       "296  32.1  \n",
       "502  19.3  "
      ]
     },
     "execution_count": 13,
     "metadata": {},
     "output_type": "execute_result"
    }
   ],
   "source": [
    "patients[patients.address.duplicated()]"
   ]
  },
  {
   "cell_type": "code",
   "execution_count": 15,
   "id": "78ea18b3",
   "metadata": {},
   "outputs": [
    {
     "data": {
      "text/html": [
       "<div>\n",
       "<style scoped>\n",
       "    .dataframe tbody tr th:only-of-type {\n",
       "        vertical-align: middle;\n",
       "    }\n",
       "\n",
       "    .dataframe tbody tr th {\n",
       "        vertical-align: top;\n",
       "    }\n",
       "\n",
       "    .dataframe thead th {\n",
       "        text-align: right;\n",
       "    }\n",
       "</style>\n",
       "<table border=\"1\" class=\"dataframe\">\n",
       "  <thead>\n",
       "    <tr style=\"text-align: right;\">\n",
       "      <th></th>\n",
       "      <th>patient_id</th>\n",
       "      <th>assigned_sex</th>\n",
       "      <th>given_name</th>\n",
       "      <th>surname</th>\n",
       "      <th>address</th>\n",
       "      <th>city</th>\n",
       "      <th>state</th>\n",
       "      <th>zip_code</th>\n",
       "      <th>country</th>\n",
       "      <th>contact</th>\n",
       "      <th>birthdate</th>\n",
       "      <th>weight</th>\n",
       "      <th>height</th>\n",
       "      <th>bmi</th>\n",
       "    </tr>\n",
       "  </thead>\n",
       "  <tbody>\n",
       "    <tr>\n",
       "      <th>24</th>\n",
       "      <td>25</td>\n",
       "      <td>male</td>\n",
       "      <td>Jakob</td>\n",
       "      <td>Jakobsen</td>\n",
       "      <td>648 Old Dear Lane</td>\n",
       "      <td>Port Jervis</td>\n",
       "      <td>New York</td>\n",
       "      <td>12771.0</td>\n",
       "      <td>United States</td>\n",
       "      <td>JakobCJakobsen@einrot.com+1 (845) 858-7707</td>\n",
       "      <td>8/1/1985</td>\n",
       "      <td>155.8</td>\n",
       "      <td>67</td>\n",
       "      <td>24.4</td>\n",
       "    </tr>\n",
       "    <tr>\n",
       "      <th>29</th>\n",
       "      <td>30</td>\n",
       "      <td>male</td>\n",
       "      <td>Jake</td>\n",
       "      <td>Jakobsen</td>\n",
       "      <td>648 Old Dear Lane</td>\n",
       "      <td>Port Jervis</td>\n",
       "      <td>New York</td>\n",
       "      <td>12771.0</td>\n",
       "      <td>United States</td>\n",
       "      <td>JakobCJakobsen@einrot.com+1 (845) 858-7707</td>\n",
       "      <td>8/1/1985</td>\n",
       "      <td>155.8</td>\n",
       "      <td>67</td>\n",
       "      <td>24.4</td>\n",
       "    </tr>\n",
       "    <tr>\n",
       "      <th>432</th>\n",
       "      <td>433</td>\n",
       "      <td>female</td>\n",
       "      <td>Karen</td>\n",
       "      <td>Jakobsen</td>\n",
       "      <td>1690 Fannie Street</td>\n",
       "      <td>Houston</td>\n",
       "      <td>TX</td>\n",
       "      <td>77020.0</td>\n",
       "      <td>United States</td>\n",
       "      <td>KarenJakobsen@jourrapide.com1 979 203 0438</td>\n",
       "      <td>11/25/1962</td>\n",
       "      <td>185.2</td>\n",
       "      <td>67</td>\n",
       "      <td>29.0</td>\n",
       "    </tr>\n",
       "  </tbody>\n",
       "</table>\n",
       "</div>"
      ],
      "text/plain": [
       "     patient_id assigned_sex given_name   surname             address  \\\n",
       "24           25         male      Jakob  Jakobsen   648 Old Dear Lane   \n",
       "29           30         male       Jake  Jakobsen   648 Old Dear Lane   \n",
       "432         433       female      Karen  Jakobsen  1690 Fannie Street   \n",
       "\n",
       "            city     state  zip_code        country  \\\n",
       "24   Port Jervis  New York   12771.0  United States   \n",
       "29   Port Jervis  New York   12771.0  United States   \n",
       "432      Houston        TX   77020.0  United States   \n",
       "\n",
       "                                        contact   birthdate  weight  height  \\\n",
       "24   JakobCJakobsen@einrot.com+1 (845) 858-7707    8/1/1985   155.8      67   \n",
       "29   JakobCJakobsen@einrot.com+1 (845) 858-7707    8/1/1985   155.8      67   \n",
       "432  KarenJakobsen@jourrapide.com1 979 203 0438  11/25/1962   185.2      67   \n",
       "\n",
       "      bmi  \n",
       "24   24.4  \n",
       "29   24.4  \n",
       "432  29.0  "
      ]
     },
     "execution_count": 15,
     "metadata": {},
     "output_type": "execute_result"
    }
   ],
   "source": [
    "patients.query('surname == \"Jakobsen\"')"
   ]
  },
  {
   "cell_type": "markdown",
   "id": "9e2342ad",
   "metadata": {},
   "source": [
    "- value count for surname 'Doe' is 6\n",
    "- Multiple records for Jakobsen, Taylor, Gersten"
   ]
  },
  {
   "cell_type": "code",
   "execution_count": 16,
   "id": "dcfbf668",
   "metadata": {},
   "outputs": [
    {
     "data": {
      "text/plain": [
       "182    201-739-3931KaodilinakachukwuNnonso@gustr.com\n",
       "142            516-740-5280FinleyChandler@dayrep.com\n",
       "326              518-379-0603SuomaKoivunen@gustr.com\n",
       "39              508-454-2027GanimeteScancar@cuvox.de\n",
       "107              240-322-1398RoccoChristie@rhyta.com\n",
       "Name: contact, dtype: object"
      ]
     },
     "execution_count": 16,
     "metadata": {},
     "output_type": "execute_result"
    }
   ],
   "source": [
    "patients.contact.sample(5)"
   ]
  },
  {
   "cell_type": "markdown",
   "id": "2a78e971",
   "metadata": {},
   "source": [
    "- tidiness issue : there are 2 variables in contact column : e-mail and phone number"
   ]
  },
  {
   "cell_type": "code",
   "execution_count": 17,
   "id": "af5e6974",
   "metadata": {},
   "outputs": [
    {
     "data": {
      "text/html": [
       "<div>\n",
       "<style scoped>\n",
       "    .dataframe tbody tr th:only-of-type {\n",
       "        vertical-align: middle;\n",
       "    }\n",
       "\n",
       "    .dataframe tbody tr th {\n",
       "        vertical-align: top;\n",
       "    }\n",
       "\n",
       "    .dataframe thead th {\n",
       "        text-align: right;\n",
       "    }\n",
       "</style>\n",
       "<table border=\"1\" class=\"dataframe\">\n",
       "  <thead>\n",
       "    <tr style=\"text-align: right;\">\n",
       "      <th></th>\n",
       "      <th>given_name</th>\n",
       "      <th>surname</th>\n",
       "      <th>auralin</th>\n",
       "      <th>novodra</th>\n",
       "      <th>hba1c_start</th>\n",
       "      <th>hba1c_end</th>\n",
       "      <th>hba1c_change</th>\n",
       "    </tr>\n",
       "  </thead>\n",
       "  <tbody>\n",
       "    <tr>\n",
       "      <th>0</th>\n",
       "      <td>veronika</td>\n",
       "      <td>jindrová</td>\n",
       "      <td>41u - 48u</td>\n",
       "      <td>-</td>\n",
       "      <td>7.63</td>\n",
       "      <td>7.20</td>\n",
       "      <td>NaN</td>\n",
       "    </tr>\n",
       "    <tr>\n",
       "      <th>1</th>\n",
       "      <td>elliot</td>\n",
       "      <td>richardson</td>\n",
       "      <td>-</td>\n",
       "      <td>40u - 45u</td>\n",
       "      <td>7.56</td>\n",
       "      <td>7.09</td>\n",
       "      <td>0.97</td>\n",
       "    </tr>\n",
       "    <tr>\n",
       "      <th>2</th>\n",
       "      <td>yukitaka</td>\n",
       "      <td>takenaka</td>\n",
       "      <td>-</td>\n",
       "      <td>39u - 36u</td>\n",
       "      <td>7.68</td>\n",
       "      <td>7.25</td>\n",
       "      <td>NaN</td>\n",
       "    </tr>\n",
       "    <tr>\n",
       "      <th>3</th>\n",
       "      <td>skye</td>\n",
       "      <td>gormanston</td>\n",
       "      <td>33u - 36u</td>\n",
       "      <td>-</td>\n",
       "      <td>7.97</td>\n",
       "      <td>7.62</td>\n",
       "      <td>0.35</td>\n",
       "    </tr>\n",
       "    <tr>\n",
       "      <th>4</th>\n",
       "      <td>alissa</td>\n",
       "      <td>montez</td>\n",
       "      <td>-</td>\n",
       "      <td>33u - 29u</td>\n",
       "      <td>7.78</td>\n",
       "      <td>7.46</td>\n",
       "      <td>0.32</td>\n",
       "    </tr>\n",
       "  </tbody>\n",
       "</table>\n",
       "</div>"
      ],
      "text/plain": [
       "  given_name     surname    auralin    novodra  hba1c_start  hba1c_end  \\\n",
       "0   veronika    jindrová  41u - 48u          -         7.63       7.20   \n",
       "1     elliot  richardson          -  40u - 45u         7.56       7.09   \n",
       "2   yukitaka    takenaka          -  39u - 36u         7.68       7.25   \n",
       "3       skye  gormanston  33u - 36u          -         7.97       7.62   \n",
       "4     alissa      montez          -  33u - 29u         7.78       7.46   \n",
       "\n",
       "   hba1c_change  \n",
       "0           NaN  \n",
       "1          0.97  \n",
       "2           NaN  \n",
       "3          0.35  \n",
       "4          0.32  "
      ]
     },
     "execution_count": 17,
     "metadata": {},
     "output_type": "execute_result"
    }
   ],
   "source": [
    "treatments.head()"
   ]
  },
  {
   "cell_type": "code",
   "execution_count": 18,
   "id": "5fbb6daa",
   "metadata": {},
   "outputs": [
    {
     "name": "stdout",
     "output_type": "stream",
     "text": [
      "<class 'pandas.core.frame.DataFrame'>\n",
      "RangeIndex: 280 entries, 0 to 279\n",
      "Data columns (total 7 columns):\n",
      " #   Column        Non-Null Count  Dtype  \n",
      "---  ------        --------------  -----  \n",
      " 0   given_name    280 non-null    object \n",
      " 1   surname       280 non-null    object \n",
      " 2   auralin       280 non-null    object \n",
      " 3   novodra       280 non-null    object \n",
      " 4   hba1c_start   280 non-null    float64\n",
      " 5   hba1c_end     280 non-null    float64\n",
      " 6   hba1c_change  171 non-null    float64\n",
      "dtypes: float64(3), object(4)\n",
      "memory usage: 15.4+ KB\n"
     ]
    }
   ],
   "source": [
    "treatments.info()"
   ]
  },
  {
   "cell_type": "markdown",
   "id": "879280b7",
   "metadata": {},
   "source": [
    "- Erroneous datatype ( auralin, novodra)"
   ]
  },
  {
   "cell_type": "code",
   "execution_count": 19,
   "id": "94c4e5b1",
   "metadata": {},
   "outputs": [
    {
     "data": {
      "text/html": [
       "<div>\n",
       "<style scoped>\n",
       "    .dataframe tbody tr th:only-of-type {\n",
       "        vertical-align: middle;\n",
       "    }\n",
       "\n",
       "    .dataframe tbody tr th {\n",
       "        vertical-align: top;\n",
       "    }\n",
       "\n",
       "    .dataframe thead th {\n",
       "        text-align: right;\n",
       "    }\n",
       "</style>\n",
       "<table border=\"1\" class=\"dataframe\">\n",
       "  <thead>\n",
       "    <tr style=\"text-align: right;\">\n",
       "      <th></th>\n",
       "      <th>hba1c_start</th>\n",
       "      <th>hba1c_end</th>\n",
       "      <th>hba1c_change</th>\n",
       "    </tr>\n",
       "  </thead>\n",
       "  <tbody>\n",
       "    <tr>\n",
       "      <th>count</th>\n",
       "      <td>280.000000</td>\n",
       "      <td>280.000000</td>\n",
       "      <td>171.000000</td>\n",
       "    </tr>\n",
       "    <tr>\n",
       "      <th>mean</th>\n",
       "      <td>7.985929</td>\n",
       "      <td>7.589286</td>\n",
       "      <td>0.546023</td>\n",
       "    </tr>\n",
       "    <tr>\n",
       "      <th>std</th>\n",
       "      <td>0.568638</td>\n",
       "      <td>0.569672</td>\n",
       "      <td>0.279555</td>\n",
       "    </tr>\n",
       "    <tr>\n",
       "      <th>min</th>\n",
       "      <td>7.500000</td>\n",
       "      <td>7.010000</td>\n",
       "      <td>0.200000</td>\n",
       "    </tr>\n",
       "    <tr>\n",
       "      <th>25%</th>\n",
       "      <td>7.660000</td>\n",
       "      <td>7.270000</td>\n",
       "      <td>0.340000</td>\n",
       "    </tr>\n",
       "    <tr>\n",
       "      <th>50%</th>\n",
       "      <td>7.800000</td>\n",
       "      <td>7.420000</td>\n",
       "      <td>0.380000</td>\n",
       "    </tr>\n",
       "    <tr>\n",
       "      <th>75%</th>\n",
       "      <td>7.970000</td>\n",
       "      <td>7.570000</td>\n",
       "      <td>0.920000</td>\n",
       "    </tr>\n",
       "    <tr>\n",
       "      <th>max</th>\n",
       "      <td>9.950000</td>\n",
       "      <td>9.580000</td>\n",
       "      <td>0.990000</td>\n",
       "    </tr>\n",
       "  </tbody>\n",
       "</table>\n",
       "</div>"
      ],
      "text/plain": [
       "       hba1c_start   hba1c_end  hba1c_change\n",
       "count   280.000000  280.000000    171.000000\n",
       "mean      7.985929    7.589286      0.546023\n",
       "std       0.568638    0.569672      0.279555\n",
       "min       7.500000    7.010000      0.200000\n",
       "25%       7.660000    7.270000      0.340000\n",
       "50%       7.800000    7.420000      0.380000\n",
       "75%       7.970000    7.570000      0.920000\n",
       "max       9.950000    9.580000      0.990000"
      ]
     },
     "execution_count": 19,
     "metadata": {},
     "output_type": "execute_result"
    }
   ],
   "source": [
    "treatments.describe()"
   ]
  },
  {
   "cell_type": "markdown",
   "id": "64cceae2",
   "metadata": {},
   "source": [
    "- a hba1c_change value about 0.4 is a success, however maximum value of hba1c_change is : 0.99 and 3rd quartile value is : 0.92 that suggest a massive skew and a big change wish is just implausible."
   ]
  },
  {
   "cell_type": "code",
   "execution_count": 20,
   "id": "a387c4b9",
   "metadata": {},
   "outputs": [
    {
     "data": {
      "text/html": [
       "<div>\n",
       "<style scoped>\n",
       "    .dataframe tbody tr th:only-of-type {\n",
       "        vertical-align: middle;\n",
       "    }\n",
       "\n",
       "    .dataframe tbody tr th {\n",
       "        vertical-align: top;\n",
       "    }\n",
       "\n",
       "    .dataframe thead th {\n",
       "        text-align: right;\n",
       "    }\n",
       "</style>\n",
       "<table border=\"1\" class=\"dataframe\">\n",
       "  <thead>\n",
       "    <tr style=\"text-align: right;\">\n",
       "      <th></th>\n",
       "      <th>given_name</th>\n",
       "      <th>surname</th>\n",
       "      <th>auralin</th>\n",
       "      <th>novodra</th>\n",
       "      <th>hba1c_start</th>\n",
       "      <th>hba1c_end</th>\n",
       "      <th>hba1c_change</th>\n",
       "    </tr>\n",
       "  </thead>\n",
       "  <tbody>\n",
       "    <tr>\n",
       "      <th>32</th>\n",
       "      <td>laura</td>\n",
       "      <td>ehrlichmann</td>\n",
       "      <td>-</td>\n",
       "      <td>43u - 40u</td>\n",
       "      <td>7.95</td>\n",
       "      <td>7.46</td>\n",
       "      <td>0.99</td>\n",
       "    </tr>\n",
       "  </tbody>\n",
       "</table>\n",
       "</div>"
      ],
      "text/plain": [
       "   given_name      surname auralin    novodra  hba1c_start  hba1c_end  \\\n",
       "32      laura  ehrlichmann       -  43u - 40u         7.95       7.46   \n",
       "\n",
       "    hba1c_change  \n",
       "32          0.99  "
      ]
     },
     "execution_count": 20,
     "metadata": {},
     "output_type": "execute_result"
    }
   ],
   "source": [
    "\n",
    "treatments.query('hba1c_change == 0.99').head(1)"
   ]
  },
  {
   "cell_type": "code",
   "execution_count": 21,
   "id": "bb86b64b",
   "metadata": {},
   "outputs": [
    {
     "data": {
      "text/plain": [
       "0.4900000000000002"
      ]
     },
     "execution_count": 21,
     "metadata": {},
     "output_type": "execute_result"
    }
   ],
   "source": [
    "hba1c_start = 7.95\n",
    "hba1c_end = 7.46\n",
    "hba1c_change = hba1c_start - hba1c_end\n",
    "hba1c_change"
   ]
  },
  {
   "cell_type": "markdown",
   "id": "dc9b0bc0",
   "metadata": {},
   "source": [
    "- hba1c_change is 0.49 instead of 0.99 it is calculated wrong. this can be a data entry error. (4s mistaken as 9s)"
   ]
  },
  {
   "cell_type": "code",
   "execution_count": 22,
   "id": "fd03cb54",
   "metadata": {},
   "outputs": [
    {
     "data": {
      "text/plain": [
       "given_name        0\n",
       "surname           0\n",
       "auralin           0\n",
       "novodra           0\n",
       "hba1c_start       0\n",
       "hba1c_end         0\n",
       "hba1c_change    109\n",
       "dtype: int64"
      ]
     },
     "execution_count": 22,
     "metadata": {},
     "output_type": "execute_result"
    }
   ],
   "source": [
    "treatments.isnull().sum()"
   ]
  },
  {
   "cell_type": "markdown",
   "id": "e4f7a3f9",
   "metadata": {},
   "source": [
    "- Missing values in hba1c_change"
   ]
  },
  {
   "cell_type": "code",
   "execution_count": 23,
   "id": "63c7d500",
   "metadata": {},
   "outputs": [
    {
     "data": {
      "text/html": [
       "<div>\n",
       "<style scoped>\n",
       "    .dataframe tbody tr th:only-of-type {\n",
       "        vertical-align: middle;\n",
       "    }\n",
       "\n",
       "    .dataframe tbody tr th {\n",
       "        vertical-align: top;\n",
       "    }\n",
       "\n",
       "    .dataframe thead th {\n",
       "        text-align: right;\n",
       "    }\n",
       "</style>\n",
       "<table border=\"1\" class=\"dataframe\">\n",
       "  <thead>\n",
       "    <tr style=\"text-align: right;\">\n",
       "      <th></th>\n",
       "      <th>auralin</th>\n",
       "      <th>novodra</th>\n",
       "    </tr>\n",
       "  </thead>\n",
       "  <tbody>\n",
       "    <tr>\n",
       "      <th>0</th>\n",
       "      <td>41u - 48u</td>\n",
       "      <td>-</td>\n",
       "    </tr>\n",
       "    <tr>\n",
       "      <th>1</th>\n",
       "      <td>-</td>\n",
       "      <td>40u - 45u</td>\n",
       "    </tr>\n",
       "    <tr>\n",
       "      <th>2</th>\n",
       "      <td>-</td>\n",
       "      <td>39u - 36u</td>\n",
       "    </tr>\n",
       "    <tr>\n",
       "      <th>3</th>\n",
       "      <td>33u - 36u</td>\n",
       "      <td>-</td>\n",
       "    </tr>\n",
       "    <tr>\n",
       "      <th>4</th>\n",
       "      <td>-</td>\n",
       "      <td>33u - 29u</td>\n",
       "    </tr>\n",
       "  </tbody>\n",
       "</table>\n",
       "</div>"
      ],
      "text/plain": [
       "     auralin    novodra\n",
       "0  41u - 48u          -\n",
       "1          -  40u - 45u\n",
       "2          -  39u - 36u\n",
       "3  33u - 36u          -\n",
       "4          -  33u - 29u"
      ]
     },
     "execution_count": 23,
     "metadata": {},
     "output_type": "execute_result"
    }
   ],
   "source": [
    "\n",
    "treatments[['auralin', 'novodra']].head()"
   ]
  },
  {
   "cell_type": "markdown",
   "id": "b79cbeb9",
   "metadata": {},
   "source": [
    "- The letter 'u' is starting on ending doses for Auralin and Novodra"
   ]
  },
  {
   "cell_type": "code",
   "execution_count": 24,
   "id": "cca04ad3",
   "metadata": {},
   "outputs": [
    {
     "data": {
      "text/html": [
       "<div>\n",
       "<style scoped>\n",
       "    .dataframe tbody tr th:only-of-type {\n",
       "        vertical-align: middle;\n",
       "    }\n",
       "\n",
       "    .dataframe tbody tr th {\n",
       "        vertical-align: top;\n",
       "    }\n",
       "\n",
       "    .dataframe thead th {\n",
       "        text-align: right;\n",
       "    }\n",
       "</style>\n",
       "<table border=\"1\" class=\"dataframe\">\n",
       "  <thead>\n",
       "    <tr style=\"text-align: right;\">\n",
       "      <th></th>\n",
       "      <th>given_name</th>\n",
       "      <th>surname</th>\n",
       "    </tr>\n",
       "  </thead>\n",
       "  <tbody>\n",
       "    <tr>\n",
       "      <th>0</th>\n",
       "      <td>Zoe</td>\n",
       "      <td>Wellish</td>\n",
       "    </tr>\n",
       "    <tr>\n",
       "      <th>1</th>\n",
       "      <td>Pamela</td>\n",
       "      <td>Hill</td>\n",
       "    </tr>\n",
       "    <tr>\n",
       "      <th>2</th>\n",
       "      <td>Jae</td>\n",
       "      <td>Debord</td>\n",
       "    </tr>\n",
       "    <tr>\n",
       "      <th>3</th>\n",
       "      <td>Liêm</td>\n",
       "      <td>Phan</td>\n",
       "    </tr>\n",
       "    <tr>\n",
       "      <th>4</th>\n",
       "      <td>Tim</td>\n",
       "      <td>Neudorf</td>\n",
       "    </tr>\n",
       "  </tbody>\n",
       "</table>\n",
       "</div>"
      ],
      "text/plain": [
       "  given_name  surname\n",
       "0        Zoe  Wellish\n",
       "1     Pamela     Hill\n",
       "2        Jae   Debord\n",
       "3       Liêm     Phan\n",
       "4        Tim  Neudorf"
      ]
     },
     "execution_count": 24,
     "metadata": {},
     "output_type": "execute_result"
    }
   ],
   "source": [
    "patients[['given_name' , 'surname']].head()"
   ]
  },
  {
   "cell_type": "code",
   "execution_count": 25,
   "id": "b47c203e",
   "metadata": {},
   "outputs": [
    {
     "data": {
      "text/html": [
       "<div>\n",
       "<style scoped>\n",
       "    .dataframe tbody tr th:only-of-type {\n",
       "        vertical-align: middle;\n",
       "    }\n",
       "\n",
       "    .dataframe tbody tr th {\n",
       "        vertical-align: top;\n",
       "    }\n",
       "\n",
       "    .dataframe thead th {\n",
       "        text-align: right;\n",
       "    }\n",
       "</style>\n",
       "<table border=\"1\" class=\"dataframe\">\n",
       "  <thead>\n",
       "    <tr style=\"text-align: right;\">\n",
       "      <th></th>\n",
       "      <th>given_name</th>\n",
       "      <th>surname</th>\n",
       "    </tr>\n",
       "  </thead>\n",
       "  <tbody>\n",
       "    <tr>\n",
       "      <th>0</th>\n",
       "      <td>veronika</td>\n",
       "      <td>jindrová</td>\n",
       "    </tr>\n",
       "    <tr>\n",
       "      <th>1</th>\n",
       "      <td>elliot</td>\n",
       "      <td>richardson</td>\n",
       "    </tr>\n",
       "    <tr>\n",
       "      <th>2</th>\n",
       "      <td>yukitaka</td>\n",
       "      <td>takenaka</td>\n",
       "    </tr>\n",
       "    <tr>\n",
       "      <th>3</th>\n",
       "      <td>skye</td>\n",
       "      <td>gormanston</td>\n",
       "    </tr>\n",
       "    <tr>\n",
       "      <th>4</th>\n",
       "      <td>alissa</td>\n",
       "      <td>montez</td>\n",
       "    </tr>\n",
       "  </tbody>\n",
       "</table>\n",
       "</div>"
      ],
      "text/plain": [
       "  given_name     surname\n",
       "0   veronika    jindrová\n",
       "1     elliot  richardson\n",
       "2   yukitaka    takenaka\n",
       "3       skye  gormanston\n",
       "4     alissa      montez"
      ]
     },
     "execution_count": 25,
     "metadata": {},
     "output_type": "execute_result"
    }
   ],
   "source": [
    "treatments[['given_name' , 'surname']].head()"
   ]
  },
  {
   "cell_type": "markdown",
   "id": "05da6b98",
   "metadata": {},
   "source": [
    "- given name and surname in treatments table are all lowercase, but in the patients table they are not : this can be an issue if we want to join the two table using given_name and surname as a key"
   ]
  },
  {
   "cell_type": "code",
   "execution_count": 26,
   "id": "0136be35",
   "metadata": {},
   "outputs": [
    {
     "data": {
      "text/plain": [
       "280"
      ]
     },
     "execution_count": 26,
     "metadata": {},
     "output_type": "execute_result"
    }
   ],
   "source": [
    "treatments.shape[0]"
   ]
  },
  {
   "cell_type": "markdown",
   "id": "a7aba8e2",
   "metadata": {},
   "source": [
    "- missing records (280 instead of 350)"
   ]
  },
  {
   "cell_type": "code",
   "execution_count": 27,
   "id": "b173b6b5",
   "metadata": {},
   "outputs": [
    {
     "data": {
      "text/plain": [
       "46          724-419-3583JavierMoquin@rhyta.com\n",
       "499         928-284-4492RumanBisliev@gustr.com\n",
       "232      KyoukoOno@superrito.com1 858 587 9945\n",
       "69     JosephMDay@teleworm.us+1 (773) 615-9328\n",
       "311     EricaMacDonald@teleworm.us601-389-7682\n",
       "Name: contact, dtype: object"
      ]
     },
     "execution_count": 27,
     "metadata": {},
     "output_type": "execute_result"
    }
   ],
   "source": [
    "patients.contact.sample(5)"
   ]
  },
  {
   "cell_type": "markdown",
   "id": "6f00b0ae",
   "metadata": {},
   "source": [
    "- there are different representation for telephone number"
   ]
  },
  {
   "cell_type": "code",
   "execution_count": 28,
   "id": "fd6326f9",
   "metadata": {},
   "outputs": [
    {
     "data": {
      "text/plain": [
       "np.int64(0)"
      ]
     },
     "execution_count": 28,
     "metadata": {},
     "output_type": "execute_result"
    }
   ],
   "source": [
    "treatments.auralin.isnull().sum()"
   ]
  },
  {
   "cell_type": "code",
   "execution_count": 29,
   "id": "a8164042",
   "metadata": {},
   "outputs": [
    {
     "data": {
      "text/plain": [
       "np.int64(0)"
      ]
     },
     "execution_count": 29,
     "metadata": {},
     "output_type": "execute_result"
    }
   ],
   "source": [
    "treatments.novodra.isnull().sum()\n"
   ]
  },
  {
   "cell_type": "markdown",
   "id": "2cbb07c6",
   "metadata": {},
   "source": [
    "- the two lines above suggest that there are zero null entries for both auralin and novodra columns. However there are some entries with dashes in both columns wish should be nulls"
   ]
  },
  {
   "cell_type": "code",
   "execution_count": 30,
   "id": "986718f0",
   "metadata": {},
   "outputs": [
    {
     "data": {
      "text/html": [
       "<div>\n",
       "<style scoped>\n",
       "    .dataframe tbody tr th:only-of-type {\n",
       "        vertical-align: middle;\n",
       "    }\n",
       "\n",
       "    .dataframe tbody tr th {\n",
       "        vertical-align: top;\n",
       "    }\n",
       "\n",
       "    .dataframe thead th {\n",
       "        text-align: right;\n",
       "    }\n",
       "</style>\n",
       "<table border=\"1\" class=\"dataframe\">\n",
       "  <thead>\n",
       "    <tr style=\"text-align: right;\">\n",
       "      <th></th>\n",
       "      <th>given_name</th>\n",
       "      <th>surname</th>\n",
       "      <th>auralin</th>\n",
       "      <th>novodra</th>\n",
       "      <th>hba1c_start</th>\n",
       "      <th>hba1c_end</th>\n",
       "      <th>hba1c_change</th>\n",
       "    </tr>\n",
       "  </thead>\n",
       "  <tbody>\n",
       "    <tr>\n",
       "      <th>252</th>\n",
       "      <td>ellen</td>\n",
       "      <td>luman</td>\n",
       "      <td>-</td>\n",
       "      <td>40u - 39u</td>\n",
       "      <td>9.27</td>\n",
       "      <td>8.77</td>\n",
       "      <td>0.50</td>\n",
       "    </tr>\n",
       "    <tr>\n",
       "      <th>8</th>\n",
       "      <td>saber</td>\n",
       "      <td>ménard</td>\n",
       "      <td>-</td>\n",
       "      <td>54u - 54u</td>\n",
       "      <td>8.08</td>\n",
       "      <td>7.70</td>\n",
       "      <td>NaN</td>\n",
       "    </tr>\n",
       "    <tr>\n",
       "      <th>248</th>\n",
       "      <td>brianna</td>\n",
       "      <td>lansell</td>\n",
       "      <td>39u - 47u</td>\n",
       "      <td>-</td>\n",
       "      <td>9.48</td>\n",
       "      <td>9.06</td>\n",
       "      <td>NaN</td>\n",
       "    </tr>\n",
       "    <tr>\n",
       "      <th>65</th>\n",
       "      <td>elisabeth</td>\n",
       "      <td>dimmen</td>\n",
       "      <td>-</td>\n",
       "      <td>41u - 36u</td>\n",
       "      <td>7.60</td>\n",
       "      <td>7.28</td>\n",
       "      <td>0.32</td>\n",
       "    </tr>\n",
       "    <tr>\n",
       "      <th>177</th>\n",
       "      <td>samuel</td>\n",
       "      <td>blix</td>\n",
       "      <td>48u - 55u</td>\n",
       "      <td>-</td>\n",
       "      <td>7.97</td>\n",
       "      <td>7.56</td>\n",
       "      <td>NaN</td>\n",
       "    </tr>\n",
       "  </tbody>\n",
       "</table>\n",
       "</div>"
      ],
      "text/plain": [
       "    given_name  surname    auralin    novodra  hba1c_start  hba1c_end  \\\n",
       "252      ellen    luman          -  40u - 39u         9.27       8.77   \n",
       "8        saber   ménard          -  54u - 54u         8.08       7.70   \n",
       "248    brianna  lansell  39u - 47u          -         9.48       9.06   \n",
       "65   elisabeth   dimmen          -  41u - 36u         7.60       7.28   \n",
       "177     samuel     blix  48u - 55u          -         7.97       7.56   \n",
       "\n",
       "     hba1c_change  \n",
       "252          0.50  \n",
       "8             NaN  \n",
       "248           NaN  \n",
       "65           0.32  \n",
       "177           NaN  "
      ]
     },
     "execution_count": 30,
     "metadata": {},
     "output_type": "execute_result"
    }
   ],
   "source": [
    "treatments.sample(5)\n"
   ]
  },
  {
   "cell_type": "markdown",
   "id": "48eab00f",
   "metadata": {},
   "source": [
    "- tidiness issues : for auralin and novodra columns there are 3 variables: - treatment : auralin or novodra - starting dose - ending dose"
   ]
  },
  {
   "cell_type": "code",
   "execution_count": 31,
   "id": "a2a8fd56",
   "metadata": {},
   "outputs": [
    {
     "data": {
      "text/html": [
       "<div>\n",
       "<style scoped>\n",
       "    .dataframe tbody tr th:only-of-type {\n",
       "        vertical-align: middle;\n",
       "    }\n",
       "\n",
       "    .dataframe tbody tr th {\n",
       "        vertical-align: top;\n",
       "    }\n",
       "\n",
       "    .dataframe thead th {\n",
       "        text-align: right;\n",
       "    }\n",
       "</style>\n",
       "<table border=\"1\" class=\"dataframe\">\n",
       "  <thead>\n",
       "    <tr style=\"text-align: right;\">\n",
       "      <th></th>\n",
       "      <th>given_name</th>\n",
       "      <th>surname</th>\n",
       "      <th>adverse_reaction</th>\n",
       "    </tr>\n",
       "  </thead>\n",
       "  <tbody>\n",
       "    <tr>\n",
       "      <th>0</th>\n",
       "      <td>berta</td>\n",
       "      <td>napolitani</td>\n",
       "      <td>injection site discomfort</td>\n",
       "    </tr>\n",
       "    <tr>\n",
       "      <th>1</th>\n",
       "      <td>lena</td>\n",
       "      <td>baer</td>\n",
       "      <td>hypoglycemia</td>\n",
       "    </tr>\n",
       "    <tr>\n",
       "      <th>2</th>\n",
       "      <td>joseph</td>\n",
       "      <td>day</td>\n",
       "      <td>hypoglycemia</td>\n",
       "    </tr>\n",
       "    <tr>\n",
       "      <th>3</th>\n",
       "      <td>flavia</td>\n",
       "      <td>fiorentino</td>\n",
       "      <td>cough</td>\n",
       "    </tr>\n",
       "    <tr>\n",
       "      <th>4</th>\n",
       "      <td>manouck</td>\n",
       "      <td>wubbels</td>\n",
       "      <td>throat irritation</td>\n",
       "    </tr>\n",
       "  </tbody>\n",
       "</table>\n",
       "</div>"
      ],
      "text/plain": [
       "  given_name     surname           adverse_reaction\n",
       "0      berta  napolitani  injection site discomfort\n",
       "1       lena        baer               hypoglycemia\n",
       "2     joseph         day               hypoglycemia\n",
       "3     flavia  fiorentino                      cough\n",
       "4    manouck     wubbels          throat irritation"
      ]
     },
     "execution_count": 31,
     "metadata": {},
     "output_type": "execute_result"
    }
   ],
   "source": [
    "adverse_reactions.head()"
   ]
  },
  {
   "cell_type": "code",
   "execution_count": 32,
   "id": "86a2ac7f",
   "metadata": {},
   "outputs": [
    {
     "data": {
      "text/html": [
       "<div>\n",
       "<style scoped>\n",
       "    .dataframe tbody tr th:only-of-type {\n",
       "        vertical-align: middle;\n",
       "    }\n",
       "\n",
       "    .dataframe tbody tr th {\n",
       "        vertical-align: top;\n",
       "    }\n",
       "\n",
       "    .dataframe thead th {\n",
       "        text-align: right;\n",
       "    }\n",
       "</style>\n",
       "<table border=\"1\" class=\"dataframe\">\n",
       "  <thead>\n",
       "    <tr style=\"text-align: right;\">\n",
       "      <th></th>\n",
       "      <th>given_name</th>\n",
       "      <th>surname</th>\n",
       "    </tr>\n",
       "  </thead>\n",
       "  <tbody>\n",
       "    <tr>\n",
       "      <th>0</th>\n",
       "      <td>Zoe</td>\n",
       "      <td>Wellish</td>\n",
       "    </tr>\n",
       "    <tr>\n",
       "      <th>1</th>\n",
       "      <td>Pamela</td>\n",
       "      <td>Hill</td>\n",
       "    </tr>\n",
       "    <tr>\n",
       "      <th>2</th>\n",
       "      <td>Jae</td>\n",
       "      <td>Debord</td>\n",
       "    </tr>\n",
       "    <tr>\n",
       "      <th>3</th>\n",
       "      <td>Liêm</td>\n",
       "      <td>Phan</td>\n",
       "    </tr>\n",
       "    <tr>\n",
       "      <th>4</th>\n",
       "      <td>Tim</td>\n",
       "      <td>Neudorf</td>\n",
       "    </tr>\n",
       "  </tbody>\n",
       "</table>\n",
       "</div>"
      ],
      "text/plain": [
       "  given_name  surname\n",
       "0        Zoe  Wellish\n",
       "1     Pamela     Hill\n",
       "2        Jae   Debord\n",
       "3       Liêm     Phan\n",
       "4        Tim  Neudorf"
      ]
     },
     "execution_count": 32,
     "metadata": {},
     "output_type": "execute_result"
    }
   ],
   "source": [
    "\n",
    "patients[['given_name' , 'surname']].head()"
   ]
  },
  {
   "cell_type": "code",
   "execution_count": 33,
   "id": "33f6593e",
   "metadata": {},
   "outputs": [
    {
     "data": {
      "text/html": [
       "<div>\n",
       "<style scoped>\n",
       "    .dataframe tbody tr th:only-of-type {\n",
       "        vertical-align: middle;\n",
       "    }\n",
       "\n",
       "    .dataframe tbody tr th {\n",
       "        vertical-align: top;\n",
       "    }\n",
       "\n",
       "    .dataframe thead th {\n",
       "        text-align: right;\n",
       "    }\n",
       "</style>\n",
       "<table border=\"1\" class=\"dataframe\">\n",
       "  <thead>\n",
       "    <tr style=\"text-align: right;\">\n",
       "      <th></th>\n",
       "      <th>given_name</th>\n",
       "      <th>surname</th>\n",
       "    </tr>\n",
       "  </thead>\n",
       "  <tbody>\n",
       "    <tr>\n",
       "      <th>0</th>\n",
       "      <td>berta</td>\n",
       "      <td>napolitani</td>\n",
       "    </tr>\n",
       "    <tr>\n",
       "      <th>1</th>\n",
       "      <td>lena</td>\n",
       "      <td>baer</td>\n",
       "    </tr>\n",
       "    <tr>\n",
       "      <th>2</th>\n",
       "      <td>joseph</td>\n",
       "      <td>day</td>\n",
       "    </tr>\n",
       "    <tr>\n",
       "      <th>3</th>\n",
       "      <td>flavia</td>\n",
       "      <td>fiorentino</td>\n",
       "    </tr>\n",
       "    <tr>\n",
       "      <th>4</th>\n",
       "      <td>manouck</td>\n",
       "      <td>wubbels</td>\n",
       "    </tr>\n",
       "  </tbody>\n",
       "</table>\n",
       "</div>"
      ],
      "text/plain": [
       "  given_name     surname\n",
       "0      berta  napolitani\n",
       "1       lena        baer\n",
       "2     joseph         day\n",
       "3     flavia  fiorentino\n",
       "4    manouck     wubbels"
      ]
     },
     "execution_count": 33,
     "metadata": {},
     "output_type": "execute_result"
    }
   ],
   "source": [
    "\n",
    "adverse_reactions[['given_name' , 'surname']].head()"
   ]
  },
  {
   "cell_type": "markdown",
   "id": "34292377",
   "metadata": {},
   "source": [
    "- given name and surname in adverse reactions table are all lowercase, but in the patients table they are not : this can be an issue if we want to join the two table using given_name and surname as a key\n",
    "- adverse_reaction columns of adverse_reactions table belongs to the treatments table beacause an adverse reaction of a treatment is naturally connected to this treatment : we should join treatments table and adverse reactions table"
   ]
  },
  {
   "cell_type": "code",
   "execution_count": 34,
   "id": "2b27c8a6",
   "metadata": {},
   "outputs": [
    {
     "data": {
      "text/plain": [
       "14    given_name\n",
       "15       surname\n",
       "21    given_name\n",
       "22       surname\n",
       "dtype: object"
      ]
     },
     "execution_count": 34,
     "metadata": {},
     "output_type": "execute_result"
    }
   ],
   "source": [
    "# checking duplicated columns in three tables \n",
    "all_columns = pd.Series(list(patients) + list(treatments) + list(adverse_reactions))\n",
    "all_columns[all_columns.duplicated()]"
   ]
  },
  {
   "cell_type": "markdown",
   "id": "08a2daf0",
   "metadata": {},
   "source": [
    "- we should remove given_name and surnme from the treatment table and keep patients_id as primary key to ensure joining tables"
   ]
  },
  {
   "cell_type": "markdown",
   "id": "04cf3d9c",
   "metadata": {},
   "source": [
    "## Quality issues summary\n",
    "\n",
    "`patients` table\n",
    "- Zip code is a float not a string\n",
    "- Zip code has four digits sometimes\n",
    "- Tim Neudorf height is 27 in instead of 72 in\n",
    "- Full state names sometimes, abbreviations other times\n",
    "- Dsvid Gustafsson\n",
    "- Missing demographic information (address - contact columns) (can't clean)\n",
    "- Erroneous datatypes (assigned sex, state, zip_code, and birthdate columns)\n",
    "- Multiple phone number formats\n",
    "- Default John Doe data\n",
    "- Multiple records for Jakobsen, Gersten, Taylor\n",
    "- kgs instead of lbs for Zaitseva weight\n",
    "\n",
    "`treatments` table\n",
    "- Missing HbA1c changes\n",
    "- The letter 'u' in starting and ending doses for Auralin and Novodra\n",
    "- Lowercase given names and surnames\n",
    "- Missing records (280 instead of 350)\n",
    "- Erroneous datatypes (auralin and novodra columns)\n",
    "- Inaccurate HbA1c changes (leading 4s mistaken as 9s)\n",
    "- Nulls represented as dashes (-) in auralin and novodra columns\n",
    "\n",
    "`adverse_reactions` table\n",
    "- Lowercase given names and surnames"
   ]
  },
  {
   "cell_type": "markdown",
   "id": "48692309",
   "metadata": {},
   "source": [
    "## Tidiness issues summary\n",
    "\n",
    "Three rules to check tidiness\n",
    "\n",
    "1. Each variable forms a column\n",
    "2. Each observation forms a row\n",
    "3. Each type of observational unit forms a table\n",
    "\n",
    "\n",
    "\n",
    "- contact column in patients table should be split into phone number and e-mail columns\n",
    "- three variables in two columns in treatments table (treatment, start_dose, end_dose)\n",
    "- adverse_reaction columns of adverse_reactions table belongs to the treatments table\n",
    "- given_name and surname columns are duplicated in patients and treatments table"
   ]
  },
  {
   "cell_type": "markdown",
   "id": "6f6d0944",
   "metadata": {},
   "source": [
    "## Cleaning Data\n",
    "\n",
    "Cleaning data is the third and final step in the data wrangling process. This is where the quality and tidiness issues identified in the assess step are remedied. It can be done manually in spreadsheet programs or text editors, but data cleaning is often best done using code and in three steps.\n",
    "\n",
    "- Define how to clean issue in words,\n",
    "- Code : convert these words to code,\n",
    "- Test to make sure if that code worked.\n",
    "\n",
    "The very first thing to do before any cleaning occurs is to make a copy of each piece of data"
   ]
  },
  {
   "cell_type": "code",
   "execution_count": 36,
   "id": "ed63b511",
   "metadata": {},
   "outputs": [],
   "source": [
    "\n",
    "# Making a copy of each dataset\n",
    "patients_clean = patients.copy()\n",
    "treatments_clean = treatments.copy()\n",
    "adverse_reactions_clean = adverse_reactions.copy()"
   ]
  },
  {
   "cell_type": "markdown",
   "id": "94786314",
   "metadata": {},
   "source": [
    "It's usually best to find missing data first if you can. In other words, completeness issues, which is a part of data quality. For our clinical trial dataset here, we identified three completeness issues.\n",
    "\n",
    "Two in the treatments table:\n",
    "\n",
    "- the missing HbA1c changes, and\n",
    "- the missing records having 280 instead of 350\n",
    "\n",
    "Then one missing data issue in the patients table:\n",
    "\n",
    "- the missing demographic information (address, city, state, zip code, country, and contact)\n",
    "\n",
    "We just can't address this third issue : the missing demographic information. We really have no way of getting this information from these people, because We can't contact them.\n",
    "We can clean the other two issues though, the two in the treatments table: Missing HbA1c changes and the missing records (280 instead of 350)\n",
    "\n",
    "### treatments: Missing records (280 instead of 350)\n",
    "\n",
    "The missing `treatments` records are stored in a file named `treatments_cut.csv`. Let's read this file"
   ]
  },
  {
   "cell_type": "code",
   "execution_count": 37,
   "id": "354fb85e",
   "metadata": {},
   "outputs": [],
   "source": [
    "treatments_cut = pd.read_csv('treatments_cut.csv')"
   ]
  },
  {
   "cell_type": "code",
   "execution_count": 38,
   "id": "894ce52d",
   "metadata": {},
   "outputs": [
    {
     "data": {
      "text/html": [
       "<div>\n",
       "<style scoped>\n",
       "    .dataframe tbody tr th:only-of-type {\n",
       "        vertical-align: middle;\n",
       "    }\n",
       "\n",
       "    .dataframe tbody tr th {\n",
       "        vertical-align: top;\n",
       "    }\n",
       "\n",
       "    .dataframe thead th {\n",
       "        text-align: right;\n",
       "    }\n",
       "</style>\n",
       "<table border=\"1\" class=\"dataframe\">\n",
       "  <thead>\n",
       "    <tr style=\"text-align: right;\">\n",
       "      <th></th>\n",
       "      <th>given_name</th>\n",
       "      <th>surname</th>\n",
       "      <th>auralin</th>\n",
       "      <th>novodra</th>\n",
       "      <th>hba1c_start</th>\n",
       "      <th>hba1c_end</th>\n",
       "      <th>hba1c_change</th>\n",
       "    </tr>\n",
       "  </thead>\n",
       "  <tbody>\n",
       "    <tr>\n",
       "      <th>0</th>\n",
       "      <td>jožka</td>\n",
       "      <td>resanovič</td>\n",
       "      <td>22u - 30u</td>\n",
       "      <td>-</td>\n",
       "      <td>7.56</td>\n",
       "      <td>7.22</td>\n",
       "      <td>0.34</td>\n",
       "    </tr>\n",
       "    <tr>\n",
       "      <th>1</th>\n",
       "      <td>inunnguaq</td>\n",
       "      <td>heilmann</td>\n",
       "      <td>57u - 67u</td>\n",
       "      <td>-</td>\n",
       "      <td>7.85</td>\n",
       "      <td>7.45</td>\n",
       "      <td>NaN</td>\n",
       "    </tr>\n",
       "    <tr>\n",
       "      <th>2</th>\n",
       "      <td>alwin</td>\n",
       "      <td>svensson</td>\n",
       "      <td>36u - 39u</td>\n",
       "      <td>-</td>\n",
       "      <td>7.78</td>\n",
       "      <td>7.34</td>\n",
       "      <td>NaN</td>\n",
       "    </tr>\n",
       "    <tr>\n",
       "      <th>3</th>\n",
       "      <td>thể</td>\n",
       "      <td>lương</td>\n",
       "      <td>-</td>\n",
       "      <td>61u - 64u</td>\n",
       "      <td>7.64</td>\n",
       "      <td>7.22</td>\n",
       "      <td>0.92</td>\n",
       "    </tr>\n",
       "    <tr>\n",
       "      <th>4</th>\n",
       "      <td>amanda</td>\n",
       "      <td>ribeiro</td>\n",
       "      <td>36u - 44u</td>\n",
       "      <td>-</td>\n",
       "      <td>7.85</td>\n",
       "      <td>7.47</td>\n",
       "      <td>0.38</td>\n",
       "    </tr>\n",
       "  </tbody>\n",
       "</table>\n",
       "</div>"
      ],
      "text/plain": [
       "  given_name    surname    auralin    novodra  hba1c_start  hba1c_end  \\\n",
       "0      jožka  resanovič  22u - 30u          -         7.56       7.22   \n",
       "1  inunnguaq   heilmann  57u - 67u          -         7.85       7.45   \n",
       "2      alwin   svensson  36u - 39u          -         7.78       7.34   \n",
       "3        thể      lương          -  61u - 64u         7.64       7.22   \n",
       "4     amanda    ribeiro  36u - 44u          -         7.85       7.47   \n",
       "\n",
       "   hba1c_change  \n",
       "0          0.34  \n",
       "1           NaN  \n",
       "2           NaN  \n",
       "3          0.92  \n",
       "4          0.38  "
      ]
     },
     "execution_count": 38,
     "metadata": {},
     "output_type": "execute_result"
    }
   ],
   "source": [
    "treatments_cut.head()"
   ]
  },
  {
   "cell_type": "code",
   "execution_count": 40,
   "id": "334d13f6",
   "metadata": {},
   "outputs": [
    {
     "data": {
      "text/plain": [
       "(70, 7)"
      ]
     },
     "execution_count": 40,
     "metadata": {},
     "output_type": "execute_result"
    }
   ],
   "source": [
    "treatments_cut.shape"
   ]
  },
  {
   "cell_type": "markdown",
   "id": "7562f148",
   "metadata": {},
   "source": [
    "### Define"
   ]
  },
  {
   "cell_type": "code",
   "execution_count": 44,
   "id": "fa34961b",
   "metadata": {},
   "outputs": [],
   "source": [
    "frames = [treatments_clean, treatments_cut]\n",
    "treatments_clean = pd.concat(frames, ignore_index=True)"
   ]
  },
  {
   "cell_type": "code",
   "execution_count": 45,
   "id": "d6fe7a47",
   "metadata": {},
   "outputs": [
    {
     "data": {
      "text/plain": [
       "(350, 7)"
      ]
     },
     "execution_count": 45,
     "metadata": {},
     "output_type": "execute_result"
    }
   ],
   "source": [
    "treatments_clean.shape"
   ]
  },
  {
   "cell_type": "markdown",
   "id": "98b311ae",
   "metadata": {},
   "source": [
    "### `treatments`: Missing HbA1c changes and Inaccurate HbA1c changes (leading 4s mistaken as 9s)\n",
    "\n",
    "Note: the \"Inaccurate HbA1c changes (leading 4s mistaken as 9s)\" observation, which is an accuracy issue and not a completeness issue, is included in this header because it is also fixed by the cleaning operation that fixes the missing \"Missing HbA1c changes\" observation. Multiple observations in one Define, Code, and Test header occurs multiple times in this notebook."
   ]
  },
  {
   "cell_type": "markdown",
   "id": "6ac0868b",
   "metadata": {},
   "source": [
    "### Define\n",
    "\n",
    "Recalculate the `hba1c_change` column: `hba1c_start` minus `hba1c_end`."
   ]
  },
  {
   "cell_type": "markdown",
   "id": "ca8473eb",
   "metadata": {},
   "source": [
    "### Code"
   ]
  },
  {
   "cell_type": "code",
   "execution_count": 46,
   "id": "a0b0eb05",
   "metadata": {},
   "outputs": [],
   "source": [
    "treatments_clean.hba1c_change = (treatments_clean.hba1c_start - treatments_clean.hba1c_end)"
   ]
  },
  {
   "cell_type": "markdown",
   "id": "7df83708",
   "metadata": {},
   "source": [
    "### Test"
   ]
  },
  {
   "cell_type": "code",
   "execution_count": 47,
   "id": "cacf457e",
   "metadata": {},
   "outputs": [
    {
     "name": "stdout",
     "output_type": "stream",
     "text": [
      "<class 'pandas.core.frame.DataFrame'>\n",
      "RangeIndex: 350 entries, 0 to 349\n",
      "Data columns (total 7 columns):\n",
      " #   Column        Non-Null Count  Dtype  \n",
      "---  ------        --------------  -----  \n",
      " 0   given_name    350 non-null    object \n",
      " 1   surname       350 non-null    object \n",
      " 2   auralin       350 non-null    object \n",
      " 3   novodra       350 non-null    object \n",
      " 4   hba1c_start   350 non-null    float64\n",
      " 5   hba1c_end     350 non-null    float64\n",
      " 6   hba1c_change  350 non-null    float64\n",
      "dtypes: float64(3), object(4)\n",
      "memory usage: 19.3+ KB\n"
     ]
    }
   ],
   "source": [
    "treatments_clean.info()"
   ]
  },
  {
   "cell_type": "code",
   "execution_count": 48,
   "id": "5d3bc690",
   "metadata": {},
   "outputs": [
    {
     "data": {
      "text/plain": [
       "count    350.000000\n",
       "mean       0.396286\n",
       "std        0.059283\n",
       "min        0.200000\n",
       "25%        0.350000\n",
       "50%        0.390000\n",
       "75%        0.440000\n",
       "max        0.540000\n",
       "Name: hba1c_change, dtype: float64"
      ]
     },
     "execution_count": 48,
     "metadata": {},
     "output_type": "execute_result"
    }
   ],
   "source": [
    "treatments_clean.hba1c_change.describe()"
   ]
  },
  {
   "cell_type": "markdown",
   "id": "f0434ed2",
   "metadata": {},
   "source": [
    "### Tidiness Data\n",
    "\n",
    "After addressing missing data first, cleaning for tidiness is usually the next logical step. For this oral insulin clinical trial dataset, we detected and documented four sections of the dataset that weren't tidy:\n",
    "\n",
    "- in the patients table, there are two variables in one column (contact column) : phone number and email\n",
    "- in the treatment's table, there are three variables in two columns (treatment, start dose and end dose in the auralin and novodra columns).\n",
    "- the adverse_reactions table shouldn't exist ( the adverse reaction column should be part of the treatments table)\n",
    "- the given_name and surname columns are duplicated in the treatments and in adverse_reactions table when it should only be in the patients table.\n",
    "\n",
    "\n",
    "###  Contact column in `patients` table contains two variables: phone number and email\n",
    "\n",
    "### Define\n",
    "\n",
    "\n",
    "Extract the phone number and email variables from the contact column using regular expressions and pandas' str.extract method. Drop the contact column when done.\n",
    "\n",
    "### Code "
   ]
  },
  {
   "cell_type": "code",
   "execution_count": 49,
   "id": "9deee3ad",
   "metadata": {},
   "outputs": [
    {
     "name": "stderr",
     "output_type": "stream",
     "text": [
      "<>:1: SyntaxWarning: invalid escape sequence '\\+'\n",
      "<>:4: SyntaxWarning: invalid escape sequence '\\.'\n",
      "<>:1: SyntaxWarning: invalid escape sequence '\\+'\n",
      "<>:4: SyntaxWarning: invalid escape sequence '\\.'\n",
      "C:\\Users\\GT\\AppData\\Local\\Temp\\ipykernel_11672\\3894566654.py:1: SyntaxWarning: invalid escape sequence '\\+'\n",
      "  patients_clean['phone_number'] = patients_clean.contact.str.extract('((?:\\+\\d{1,2}\\s)?\\(?\\d{3}\\)?[\\s.-]?\\d{3}[\\s.-]?\\d{4})', expand=True)\n",
      "C:\\Users\\GT\\AppData\\Local\\Temp\\ipykernel_11672\\3894566654.py:4: SyntaxWarning: invalid escape sequence '\\.'\n",
      "  patients_clean['email'] = patients_clean.contact.str.extract('([a-zA-Z][a-zA-Z0-9_.+-]+@[a-zA-Z0-9-]+\\.[a-zA-Z0-9-.]+[a-zA-Z])', expand=True)\n"
     ]
    }
   ],
   "source": [
    "\n",
    "patients_clean['phone_number'] = patients_clean.contact.str.extract('((?:\\+\\d{1,2}\\s)?\\(?\\d{3}\\)?[\\s.-]?\\d{3}[\\s.-]?\\d{4})', expand=True)\n",
    "\n",
    "# [a-zA-Z] to signify emails in this dataset all start and end with letters\n",
    "patients_clean['email'] = patients_clean.contact.str.extract('([a-zA-Z][a-zA-Z0-9_.+-]+@[a-zA-Z0-9-]+\\.[a-zA-Z0-9-.]+[a-zA-Z])', expand=True)\n",
    "\n",
    "# Note: axis=1 denotes that we are referring to a column, not a row\n",
    "patients_clean = patients_clean.drop('contact', axis=1)"
   ]
  },
  {
   "cell_type": "markdown",
   "id": "82cc1707",
   "metadata": {},
   "source": [
    "### Test"
   ]
  },
  {
   "cell_type": "code",
   "execution_count": 50,
   "id": "8b6ddeb2",
   "metadata": {},
   "outputs": [
    {
     "data": {
      "text/plain": [
       "['patient_id',\n",
       " 'assigned_sex',\n",
       " 'given_name',\n",
       " 'surname',\n",
       " 'address',\n",
       " 'city',\n",
       " 'state',\n",
       " 'zip_code',\n",
       " 'country',\n",
       " 'birthdate',\n",
       " 'weight',\n",
       " 'height',\n",
       " 'bmi',\n",
       " 'phone_number',\n",
       " 'email']"
      ]
     },
     "execution_count": 50,
     "metadata": {},
     "output_type": "execute_result"
    }
   ],
   "source": [
    "# Confirm contact column is gone\n",
    "list(patients_clean)"
   ]
  },
  {
   "cell_type": "code",
   "execution_count": 52,
   "id": "ff7cef4e",
   "metadata": {},
   "outputs": [
    {
     "data": {
      "text/plain": [
       "244           1234567890\n",
       "207         989-936-4563\n",
       "330    +1 (843) 368-5129\n",
       "264                  NaN\n",
       "455         215-321-9611\n",
       "Name: phone_number, dtype: object"
      ]
     },
     "execution_count": 52,
     "metadata": {},
     "output_type": "execute_result"
    }
   ],
   "source": [
    "patients_clean.phone_number.sample(5)"
   ]
  },
  {
   "cell_type": "code",
   "execution_count": 53,
   "id": "aea444cc",
   "metadata": {},
   "outputs": [
    {
     "data": {
      "text/plain": [
       "421        ArminaSauve@dayrep.com\n",
       "304    SignyGrimsdottir@rhyta.com\n",
       "114    YunadiBarsukov@teleworm.us\n",
       "35      KamilaPecinova@dayrep.com\n",
       "48          AnnikaVaara@rhyta.com\n",
       "Name: email, dtype: object"
      ]
     },
     "execution_count": 53,
     "metadata": {},
     "output_type": "execute_result"
    }
   ],
   "source": [
    "patients_clean.email.sample(5)"
   ]
  },
  {
   "cell_type": "code",
   "execution_count": 54,
   "id": "df73fbae",
   "metadata": {},
   "outputs": [
    {
     "data": {
      "text/plain": [
       "404               AaliyahRice@dayrep.com\n",
       "11          Abdul-NurMummarIsa@rhyta.com\n",
       "332                AbelEfrem@fleckens.hu\n",
       "258              AbelYonatan@teleworm.us\n",
       "305    AddolorataLombardi@jourrapide.com\n",
       "Name: email, dtype: object"
      ]
     },
     "execution_count": 54,
     "metadata": {},
     "output_type": "execute_result"
    }
   ],
   "source": [
    "patients_clean.email.sort_values().head()"
   ]
  },
  {
   "cell_type": "markdown",
   "id": "da456fb8",
   "metadata": {},
   "source": [
    "\n",
    "### Three variables in two columns in `treatments` table (treatment, start dose and end dose)\n",
    "### Define\n",
    "Melt the auralin and novodra columns to a treatment and a dose column (dose will still contain both start and end dose at this point). Then split the dose column on ' - ' to obtain start_dose and end_dose columns. Drop the intermediate dose column.\n",
    "\n",
    "### Code"
   ]
  },
  {
   "cell_type": "code",
   "execution_count": 56,
   "id": "c5f3620b",
   "metadata": {},
   "outputs": [],
   "source": [
    "treatments_clean = pd.melt(treatments_clean, id_vars=['given_name', 'surname', 'hba1c_start', 'hba1c_end', 'hba1c_change'], var_name='treatment', value_name='dose')"
   ]
  },
  {
   "cell_type": "code",
   "execution_count": 60,
   "id": "a42dd9f8",
   "metadata": {},
   "outputs": [],
   "source": [
    "treatments_clean = treatments_clean[treatments_clean['dose'] != '-']"
   ]
  },
  {
   "cell_type": "code",
   "execution_count": 62,
   "id": "94826557",
   "metadata": {},
   "outputs": [
    {
     "name": "stderr",
     "output_type": "stream",
     "text": [
      "C:\\Users\\GT\\AppData\\Local\\Temp\\ipykernel_11672\\1467536827.py:1: SettingWithCopyWarning: \n",
      "A value is trying to be set on a copy of a slice from a DataFrame.\n",
      "Try using .loc[row_indexer,col_indexer] = value instead\n",
      "\n",
      "See the caveats in the documentation: https://pandas.pydata.org/pandas-docs/stable/user_guide/indexing.html#returning-a-view-versus-a-copy\n",
      "  treatments_clean[['start', 'end']] = treatments_clean['dose'].str.split('-', expand=True)\n",
      "C:\\Users\\GT\\AppData\\Local\\Temp\\ipykernel_11672\\1467536827.py:1: SettingWithCopyWarning: \n",
      "A value is trying to be set on a copy of a slice from a DataFrame.\n",
      "Try using .loc[row_indexer,col_indexer] = value instead\n",
      "\n",
      "See the caveats in the documentation: https://pandas.pydata.org/pandas-docs/stable/user_guide/indexing.html#returning-a-view-versus-a-copy\n",
      "  treatments_clean[['start', 'end']] = treatments_clean['dose'].str.split('-', expand=True)\n"
     ]
    }
   ],
   "source": [
    "treatments_clean[['start', 'end']] = treatments_clean['dose'].str.split('-', expand=True)"
   ]
  },
  {
   "cell_type": "code",
   "execution_count": 63,
   "id": "ee50e1c1",
   "metadata": {},
   "outputs": [],
   "source": [
    "treatments_clean = treatments_clean.drop('dose', axis=1)"
   ]
  },
  {
   "cell_type": "code",
   "execution_count": 64,
   "id": "5d6d0f16",
   "metadata": {},
   "outputs": [
    {
     "data": {
      "text/html": [
       "<div>\n",
       "<style scoped>\n",
       "    .dataframe tbody tr th:only-of-type {\n",
       "        vertical-align: middle;\n",
       "    }\n",
       "\n",
       "    .dataframe tbody tr th {\n",
       "        vertical-align: top;\n",
       "    }\n",
       "\n",
       "    .dataframe thead th {\n",
       "        text-align: right;\n",
       "    }\n",
       "</style>\n",
       "<table border=\"1\" class=\"dataframe\">\n",
       "  <thead>\n",
       "    <tr style=\"text-align: right;\">\n",
       "      <th></th>\n",
       "      <th>given_name</th>\n",
       "      <th>surname</th>\n",
       "      <th>hba1c_start</th>\n",
       "      <th>hba1c_end</th>\n",
       "      <th>hba1c_change</th>\n",
       "      <th>treatment</th>\n",
       "      <th>start</th>\n",
       "      <th>end</th>\n",
       "    </tr>\n",
       "  </thead>\n",
       "  <tbody>\n",
       "    <tr>\n",
       "      <th>0</th>\n",
       "      <td>veronika</td>\n",
       "      <td>jindrová</td>\n",
       "      <td>7.63</td>\n",
       "      <td>7.20</td>\n",
       "      <td>0.43</td>\n",
       "      <td>auralin</td>\n",
       "      <td>41u</td>\n",
       "      <td>48u</td>\n",
       "    </tr>\n",
       "    <tr>\n",
       "      <th>3</th>\n",
       "      <td>skye</td>\n",
       "      <td>gormanston</td>\n",
       "      <td>7.97</td>\n",
       "      <td>7.62</td>\n",
       "      <td>0.35</td>\n",
       "      <td>auralin</td>\n",
       "      <td>33u</td>\n",
       "      <td>36u</td>\n",
       "    </tr>\n",
       "    <tr>\n",
       "      <th>6</th>\n",
       "      <td>sophia</td>\n",
       "      <td>haugen</td>\n",
       "      <td>7.65</td>\n",
       "      <td>7.27</td>\n",
       "      <td>0.38</td>\n",
       "      <td>auralin</td>\n",
       "      <td>37u</td>\n",
       "      <td>42u</td>\n",
       "    </tr>\n",
       "    <tr>\n",
       "      <th>7</th>\n",
       "      <td>eddie</td>\n",
       "      <td>archer</td>\n",
       "      <td>7.89</td>\n",
       "      <td>7.55</td>\n",
       "      <td>0.34</td>\n",
       "      <td>auralin</td>\n",
       "      <td>31u</td>\n",
       "      <td>38u</td>\n",
       "    </tr>\n",
       "    <tr>\n",
       "      <th>9</th>\n",
       "      <td>asia</td>\n",
       "      <td>woźniak</td>\n",
       "      <td>7.76</td>\n",
       "      <td>7.37</td>\n",
       "      <td>0.39</td>\n",
       "      <td>auralin</td>\n",
       "      <td>30u</td>\n",
       "      <td>36u</td>\n",
       "    </tr>\n",
       "  </tbody>\n",
       "</table>\n",
       "</div>"
      ],
      "text/plain": [
       "  given_name     surname  hba1c_start  hba1c_end  hba1c_change treatment  \\\n",
       "0   veronika    jindrová         7.63       7.20          0.43   auralin   \n",
       "3       skye  gormanston         7.97       7.62          0.35   auralin   \n",
       "6     sophia      haugen         7.65       7.27          0.38   auralin   \n",
       "7      eddie      archer         7.89       7.55          0.34   auralin   \n",
       "9       asia     woźniak         7.76       7.37          0.39   auralin   \n",
       "\n",
       "  start   end  \n",
       "0  41u    48u  \n",
       "3  33u    36u  \n",
       "6  37u    42u  \n",
       "7  31u    38u  \n",
       "9  30u    36u  "
      ]
     },
     "execution_count": 64,
     "metadata": {},
     "output_type": "execute_result"
    }
   ],
   "source": [
    "treatments_clean.head()"
   ]
  },
  {
   "cell_type": "markdown",
   "id": "13460eda",
   "metadata": {},
   "source": [
    "### Adverse reaction should be part of the `treatments` table\n",
    "### Define\n",
    "Merge the adverse_reaction column to the `treatments` table, joining on given name and surname.\n",
    "\n",
    "### Code"
   ]
  },
  {
   "cell_type": "code",
   "execution_count": 65,
   "id": "27581e64",
   "metadata": {},
   "outputs": [],
   "source": [
    "\n",
    "treatments_clean = pd.merge(treatments_clean, adverse_reactions_clean, on=['given_name', 'surname'], how='left')"
   ]
  },
  {
   "cell_type": "code",
   "execution_count": 81,
   "id": "d094a945",
   "metadata": {},
   "outputs": [
    {
     "data": {
      "text/html": [
       "<div>\n",
       "<style scoped>\n",
       "    .dataframe tbody tr th:only-of-type {\n",
       "        vertical-align: middle;\n",
       "    }\n",
       "\n",
       "    .dataframe tbody tr th {\n",
       "        vertical-align: top;\n",
       "    }\n",
       "\n",
       "    .dataframe thead th {\n",
       "        text-align: right;\n",
       "    }\n",
       "</style>\n",
       "<table border=\"1\" class=\"dataframe\">\n",
       "  <thead>\n",
       "    <tr style=\"text-align: right;\">\n",
       "      <th></th>\n",
       "      <th>given_name</th>\n",
       "      <th>surname</th>\n",
       "      <th>hba1c_start</th>\n",
       "      <th>hba1c_end</th>\n",
       "      <th>hba1c_change</th>\n",
       "      <th>treatment</th>\n",
       "      <th>start</th>\n",
       "      <th>end</th>\n",
       "      <th>adverse_reaction</th>\n",
       "    </tr>\n",
       "  </thead>\n",
       "  <tbody>\n",
       "    <tr>\n",
       "      <th>0</th>\n",
       "      <td>veronika</td>\n",
       "      <td>jindrová</td>\n",
       "      <td>7.63</td>\n",
       "      <td>7.20</td>\n",
       "      <td>0.43</td>\n",
       "      <td>auralin</td>\n",
       "      <td>41u</td>\n",
       "      <td>48u</td>\n",
       "      <td>NaN</td>\n",
       "    </tr>\n",
       "    <tr>\n",
       "      <th>192</th>\n",
       "      <td>cannan</td>\n",
       "      <td>cabrera</td>\n",
       "      <td>7.94</td>\n",
       "      <td>7.58</td>\n",
       "      <td>0.36</td>\n",
       "      <td>novodra</td>\n",
       "      <td>40u</td>\n",
       "      <td>31u</td>\n",
       "      <td>NaN</td>\n",
       "    </tr>\n",
       "    <tr>\n",
       "      <th>61</th>\n",
       "      <td>rut</td>\n",
       "      <td>halldórsdóttir</td>\n",
       "      <td>9.01</td>\n",
       "      <td>8.63</td>\n",
       "      <td>0.38</td>\n",
       "      <td>auralin</td>\n",
       "      <td>31u</td>\n",
       "      <td>40u</td>\n",
       "      <td>NaN</td>\n",
       "    </tr>\n",
       "    <tr>\n",
       "      <th>127</th>\n",
       "      <td>alex</td>\n",
       "      <td>crawford</td>\n",
       "      <td>7.69</td>\n",
       "      <td>7.30</td>\n",
       "      <td>0.39</td>\n",
       "      <td>auralin</td>\n",
       "      <td>51u</td>\n",
       "      <td>62u</td>\n",
       "      <td>hypoglycemia</td>\n",
       "    </tr>\n",
       "    <tr>\n",
       "      <th>76</th>\n",
       "      <td>helen</td>\n",
       "      <td>luwam</td>\n",
       "      <td>7.66</td>\n",
       "      <td>7.19</td>\n",
       "      <td>0.47</td>\n",
       "      <td>auralin</td>\n",
       "      <td>32u</td>\n",
       "      <td>42u</td>\n",
       "      <td>NaN</td>\n",
       "    </tr>\n",
       "    <tr>\n",
       "      <th>130</th>\n",
       "      <td>mika</td>\n",
       "      <td>martinsson</td>\n",
       "      <td>7.50</td>\n",
       "      <td>7.17</td>\n",
       "      <td>0.33</td>\n",
       "      <td>auralin</td>\n",
       "      <td>34u</td>\n",
       "      <td>43u</td>\n",
       "      <td>NaN</td>\n",
       "    </tr>\n",
       "    <tr>\n",
       "      <th>249</th>\n",
       "      <td>ivona</td>\n",
       "      <td>jakšić</td>\n",
       "      <td>7.98</td>\n",
       "      <td>7.54</td>\n",
       "      <td>0.44</td>\n",
       "      <td>novodra</td>\n",
       "      <td>41u</td>\n",
       "      <td>41u</td>\n",
       "      <td>NaN</td>\n",
       "    </tr>\n",
       "    <tr>\n",
       "      <th>97</th>\n",
       "      <td>minea</td>\n",
       "      <td>lindgren</td>\n",
       "      <td>9.45</td>\n",
       "      <td>8.94</td>\n",
       "      <td>0.51</td>\n",
       "      <td>auralin</td>\n",
       "      <td>38u</td>\n",
       "      <td>45u</td>\n",
       "      <td>NaN</td>\n",
       "    </tr>\n",
       "    <tr>\n",
       "      <th>333</th>\n",
       "      <td>sofia</td>\n",
       "      <td>hermansen</td>\n",
       "      <td>8.90</td>\n",
       "      <td>8.57</td>\n",
       "      <td>0.33</td>\n",
       "      <td>novodra</td>\n",
       "      <td>34u</td>\n",
       "      <td>34u</td>\n",
       "      <td>injection site discomfort</td>\n",
       "    </tr>\n",
       "    <tr>\n",
       "      <th>98</th>\n",
       "      <td>peter</td>\n",
       "      <td>pospíšil</td>\n",
       "      <td>7.76</td>\n",
       "      <td>7.34</td>\n",
       "      <td>0.42</td>\n",
       "      <td>auralin</td>\n",
       "      <td>51u</td>\n",
       "      <td>60u</td>\n",
       "      <td>NaN</td>\n",
       "    </tr>\n",
       "  </tbody>\n",
       "</table>\n",
       "</div>"
      ],
      "text/plain": [
       "    given_name         surname  hba1c_start  hba1c_end  hba1c_change  \\\n",
       "0     veronika        jindrová         7.63       7.20          0.43   \n",
       "192     cannan         cabrera         7.94       7.58          0.36   \n",
       "61         rut  halldórsdóttir         9.01       8.63          0.38   \n",
       "127       alex        crawford         7.69       7.30          0.39   \n",
       "76       helen           luwam         7.66       7.19          0.47   \n",
       "130       mika      martinsson         7.50       7.17          0.33   \n",
       "249      ivona          jakšić         7.98       7.54          0.44   \n",
       "97       minea        lindgren         9.45       8.94          0.51   \n",
       "333      sofia       hermansen         8.90       8.57          0.33   \n",
       "98       peter        pospíšil         7.76       7.34          0.42   \n",
       "\n",
       "    treatment start   end           adverse_reaction  \n",
       "0     auralin  41u    48u                        NaN  \n",
       "192   novodra  40u    31u                        NaN  \n",
       "61    auralin  31u    40u                        NaN  \n",
       "127   auralin  51u    62u               hypoglycemia  \n",
       "76    auralin  32u    42u                        NaN  \n",
       "130   auralin  34u    43u                        NaN  \n",
       "249   novodra  41u    41u                        NaN  \n",
       "97    auralin  38u    45u                        NaN  \n",
       "333   novodra  34u    34u  injection site discomfort  \n",
       "98    auralin  51u    60u                        NaN  "
      ]
     },
     "execution_count": 81,
     "metadata": {},
     "output_type": "execute_result"
    }
   ],
   "source": [
    "treatments_clean.sample(10)"
   ]
  },
  {
   "cell_type": "markdown",
   "id": "7e2d273a",
   "metadata": {},
   "source": [
    "### Given name and surname columns in `patients` table duplicated in `treatments` and `adverse_reactions` tables and Lowercase given names and surnames\n",
    "\n",
    "### Define\n",
    "- Adverse reactions table is no longer needed.\n",
    "\n",
    "- Isolate the patient ID and names in the patients table, then convert these names to lower case to join with treatments.\n",
    "Drop the given name and surname columns in the treatments table (so these being lowercase isn't an issue anymore).\n",
    "### Code"
   ]
  },
  {
   "cell_type": "code",
   "execution_count": 83,
   "id": "bdce79d5",
   "metadata": {},
   "outputs": [
    {
     "name": "stderr",
     "output_type": "stream",
     "text": [
      "C:\\Users\\GT\\AppData\\Local\\Temp\\ipykernel_11672\\599544455.py:2: SettingWithCopyWarning: \n",
      "A value is trying to be set on a copy of a slice from a DataFrame.\n",
      "Try using .loc[row_indexer,col_indexer] = value instead\n",
      "\n",
      "See the caveats in the documentation: https://pandas.pydata.org/pandas-docs/stable/user_guide/indexing.html#returning-a-view-versus-a-copy\n",
      "  name_id.given_name = name_id.given_name.str.lower()\n",
      "C:\\Users\\GT\\AppData\\Local\\Temp\\ipykernel_11672\\599544455.py:3: SettingWithCopyWarning: \n",
      "A value is trying to be set on a copy of a slice from a DataFrame.\n",
      "Try using .loc[row_indexer,col_indexer] = value instead\n",
      "\n",
      "See the caveats in the documentation: https://pandas.pydata.org/pandas-docs/stable/user_guide/indexing.html#returning-a-view-versus-a-copy\n",
      "  name_id.surname = name_id.surname.str.lower()\n"
     ]
    }
   ],
   "source": [
    "name_id = patients_clean[['patient_id', 'given_name', 'surname']]\n",
    "name_id.given_name = name_id.given_name.str.lower()\n",
    "name_id.surname = name_id.surname.str.lower()\n",
    "\n",
    "treatments_clean = pd.merge(treatments_clean, name_id, on=['given_name', 'surname'])\n",
    "\n",
    "treatments_clean = treatments_clean.drop(['given_name', 'surname'], axis=1)"
   ]
  },
  {
   "cell_type": "markdown",
   "id": "026a939e",
   "metadata": {},
   "source": [
    "### Test"
   ]
  },
  {
   "cell_type": "code",
   "execution_count": 84,
   "id": "237f0679",
   "metadata": {},
   "outputs": [
    {
     "data": {
      "text/html": [
       "<div>\n",
       "<style scoped>\n",
       "    .dataframe tbody tr th:only-of-type {\n",
       "        vertical-align: middle;\n",
       "    }\n",
       "\n",
       "    .dataframe tbody tr th {\n",
       "        vertical-align: top;\n",
       "    }\n",
       "\n",
       "    .dataframe thead th {\n",
       "        text-align: right;\n",
       "    }\n",
       "</style>\n",
       "<table border=\"1\" class=\"dataframe\">\n",
       "  <thead>\n",
       "    <tr style=\"text-align: right;\">\n",
       "      <th></th>\n",
       "      <th>hba1c_start</th>\n",
       "      <th>hba1c_end</th>\n",
       "      <th>hba1c_change</th>\n",
       "      <th>treatment</th>\n",
       "      <th>start</th>\n",
       "      <th>end</th>\n",
       "      <th>adverse_reaction</th>\n",
       "      <th>patient_id</th>\n",
       "    </tr>\n",
       "  </thead>\n",
       "  <tbody>\n",
       "    <tr>\n",
       "      <th>0</th>\n",
       "      <td>7.63</td>\n",
       "      <td>7.20</td>\n",
       "      <td>0.43</td>\n",
       "      <td>auralin</td>\n",
       "      <td>41u</td>\n",
       "      <td>48u</td>\n",
       "      <td>NaN</td>\n",
       "      <td>225</td>\n",
       "    </tr>\n",
       "    <tr>\n",
       "      <th>1</th>\n",
       "      <td>7.97</td>\n",
       "      <td>7.62</td>\n",
       "      <td>0.35</td>\n",
       "      <td>auralin</td>\n",
       "      <td>33u</td>\n",
       "      <td>36u</td>\n",
       "      <td>NaN</td>\n",
       "      <td>242</td>\n",
       "    </tr>\n",
       "    <tr>\n",
       "      <th>2</th>\n",
       "      <td>7.65</td>\n",
       "      <td>7.27</td>\n",
       "      <td>0.38</td>\n",
       "      <td>auralin</td>\n",
       "      <td>37u</td>\n",
       "      <td>42u</td>\n",
       "      <td>NaN</td>\n",
       "      <td>345</td>\n",
       "    </tr>\n",
       "    <tr>\n",
       "      <th>3</th>\n",
       "      <td>7.89</td>\n",
       "      <td>7.55</td>\n",
       "      <td>0.34</td>\n",
       "      <td>auralin</td>\n",
       "      <td>31u</td>\n",
       "      <td>38u</td>\n",
       "      <td>NaN</td>\n",
       "      <td>276</td>\n",
       "    </tr>\n",
       "    <tr>\n",
       "      <th>4</th>\n",
       "      <td>7.76</td>\n",
       "      <td>7.37</td>\n",
       "      <td>0.39</td>\n",
       "      <td>auralin</td>\n",
       "      <td>30u</td>\n",
       "      <td>36u</td>\n",
       "      <td>NaN</td>\n",
       "      <td>15</td>\n",
       "    </tr>\n",
       "  </tbody>\n",
       "</table>\n",
       "</div>"
      ],
      "text/plain": [
       "   hba1c_start  hba1c_end  hba1c_change treatment start   end  \\\n",
       "0         7.63       7.20          0.43   auralin  41u    48u   \n",
       "1         7.97       7.62          0.35   auralin  33u    36u   \n",
       "2         7.65       7.27          0.38   auralin  37u    42u   \n",
       "3         7.89       7.55          0.34   auralin  31u    38u   \n",
       "4         7.76       7.37          0.39   auralin  30u    36u   \n",
       "\n",
       "  adverse_reaction  patient_id  \n",
       "0              NaN         225  \n",
       "1              NaN         242  \n",
       "2              NaN         345  \n",
       "3              NaN         276  \n",
       "4              NaN          15  "
      ]
     },
     "execution_count": 84,
     "metadata": {},
     "output_type": "execute_result"
    }
   ],
   "source": [
    "treatments_clean.head()"
   ]
  },
  {
   "cell_type": "code",
   "execution_count": 85,
   "id": "1773d492",
   "metadata": {},
   "outputs": [
    {
     "data": {
      "text/plain": [
       "22    patient_id\n",
       "dtype: object"
      ]
     },
     "execution_count": 85,
     "metadata": {},
     "output_type": "execute_result"
    }
   ],
   "source": [
    "\n",
    "# Patient ID should be the only duplicate column\n",
    "all_columns = pd.Series(list(patients_clean) + list(treatments_clean))\n",
    "all_columns[all_columns.duplicated()]"
   ]
  },
  {
   "cell_type": "markdown",
   "id": "a02a38e4",
   "metadata": {},
   "source": [
    "### Quality\n",
    "Once the missing data and tidiness issues are cleaned, cleaning the remaining data quality issues, i.e.the ones outside of the completeness issues is all that remains.\n",
    "\n",
    "There were 19 data quality issues in this dataset (16 outside of the missing data issues). Next we'll use a variety of common pandas functions to clean them all.\n",
    "\n",
    "### Zip code is a float not a string and Zip code has four digits sometimes\n",
    "### Define\n",
    "- Convert the zip code column's data type from a float to a string using (astype)\n",
    "- Remove the .0 using string slicing and pad four digit zip codes witha leading 0\n",
    "### Code"
   ]
  },
  {
   "cell_type": "code",
   "execution_count": 86,
   "id": "c6d56080",
   "metadata": {},
   "outputs": [],
   "source": [
    "patients_clean.zip_code = patients_clean.zip_code.astype(str).str[:-2].str.pad(5, fillchar='0')"
   ]
  },
  {
   "cell_type": "code",
   "execution_count": 112,
   "id": "8d0b2748",
   "metadata": {},
   "outputs": [
    {
     "data": {
      "text/plain": [
       "462    90007\n",
       "Name: zip_code, dtype: object"
      ]
     },
     "execution_count": 112,
     "metadata": {},
     "output_type": "execute_result"
    }
   ],
   "source": [
    "patients_clean.zip_code.sample()"
   ]
  },
  {
   "cell_type": "markdown",
   "id": "1dbb1583",
   "metadata": {},
   "source": [
    "### Tim Neudorf height is 27 in instead of 72 in\n",
    "### Define\n",
    "Replace height for rows in the patients table that have a height of 27 in (there is only one) with 72 in.\n",
    "### Code"
   ]
  },
  {
   "cell_type": "code",
   "execution_count": 113,
   "id": "9d9b234d",
   "metadata": {},
   "outputs": [
    {
     "name": "stderr",
     "output_type": "stream",
     "text": [
      "C:\\Users\\GT\\AppData\\Local\\Temp\\ipykernel_11672\\1100413820.py:1: FutureWarning: A value is trying to be set on a copy of a DataFrame or Series through chained assignment using an inplace method.\n",
      "The behavior will change in pandas 3.0. This inplace method will never work because the intermediate object on which we are setting values always behaves as a copy.\n",
      "\n",
      "For example, when doing 'df[col].method(value, inplace=True)', try using 'df.method({col: value}, inplace=True)' or df[col] = df[col].method(value) instead, to perform the operation inplace on the original object.\n",
      "\n",
      "\n",
      "  patients_clean['height'].replace(27, 72, inplace=True)\n"
     ]
    }
   ],
   "source": [
    "patients_clean['height'].replace(27, 72, inplace=True)"
   ]
  },
  {
   "cell_type": "markdown",
   "id": "41ba5c7d",
   "metadata": {},
   "source": [
    "### Test"
   ]
  },
  {
   "cell_type": "code",
   "execution_count": 114,
   "id": "403d2c3e",
   "metadata": {},
   "outputs": [
    {
     "data": {
      "text/html": [
       "<div>\n",
       "<style scoped>\n",
       "    .dataframe tbody tr th:only-of-type {\n",
       "        vertical-align: middle;\n",
       "    }\n",
       "\n",
       "    .dataframe tbody tr th {\n",
       "        vertical-align: top;\n",
       "    }\n",
       "\n",
       "    .dataframe thead th {\n",
       "        text-align: right;\n",
       "    }\n",
       "</style>\n",
       "<table border=\"1\" class=\"dataframe\">\n",
       "  <thead>\n",
       "    <tr style=\"text-align: right;\">\n",
       "      <th></th>\n",
       "      <th>patient_id</th>\n",
       "      <th>assigned_sex</th>\n",
       "      <th>given_name</th>\n",
       "      <th>surname</th>\n",
       "      <th>address</th>\n",
       "      <th>city</th>\n",
       "      <th>state</th>\n",
       "      <th>zip_code</th>\n",
       "      <th>country</th>\n",
       "      <th>birthdate</th>\n",
       "      <th>weight</th>\n",
       "      <th>height</th>\n",
       "      <th>bmi</th>\n",
       "      <th>phone_number</th>\n",
       "      <th>email</th>\n",
       "    </tr>\n",
       "  </thead>\n",
       "  <tbody>\n",
       "  </tbody>\n",
       "</table>\n",
       "</div>"
      ],
      "text/plain": [
       "Empty DataFrame\n",
       "Columns: [patient_id, assigned_sex, given_name, surname, address, city, state, zip_code, country, birthdate, weight, height, bmi, phone_number, email]\n",
       "Index: []"
      ]
     },
     "execution_count": 114,
     "metadata": {},
     "output_type": "execute_result"
    }
   ],
   "source": [
    "patients_clean.query('height == \"27\"')"
   ]
  },
  {
   "cell_type": "code",
   "execution_count": 115,
   "id": "55b66106",
   "metadata": {},
   "outputs": [
    {
     "data": {
      "text/plain": [
       "4    72\n",
       "Name: height, dtype: int64"
      ]
     },
     "execution_count": 115,
     "metadata": {},
     "output_type": "execute_result"
    }
   ],
   "source": [
    "\n",
    "# Confirm the replacement worked\n",
    "patients_clean[patients_clean.surname == 'Neudorf'].height"
   ]
  },
  {
   "cell_type": "markdown",
   "id": "442bbd98",
   "metadata": {},
   "source": [
    "### Full state names sometimes, abbreviations other times\n",
    "### Define\n",
    "Apply a function that converts full state name to state abbreviation for California, New York, Illinois, Florida, and Nebraska.\n",
    "### Code"
   ]
  },
  {
   "cell_type": "code",
   "execution_count": 118,
   "id": "56fa614f",
   "metadata": {},
   "outputs": [],
   "source": [
    "# Mapping from full state name to abbreviation\n",
    "state_abbrev = {'California': 'CA',\n",
    "                'New York': 'NY',\n",
    "                'Illinois': 'IL',\n",
    "                'Florida': 'FL',\n",
    "                'Nebraska': 'NE'}\n",
    "\n",
    "# Function to apply\n",
    "def abbreviate_state(patient):\n",
    "    if patient['state'] in state_abbrev.keys():\n",
    "        abbrev = state_abbrev[patient['state']]\n",
    "        return abbrev\n",
    "    else:\n",
    "        return patient['state']\n",
    "    \n",
    "patients_clean['state'] = patients_clean.apply(abbreviate_state, axis=1)"
   ]
  },
  {
   "cell_type": "markdown",
   "id": "47d1c4d4",
   "metadata": {},
   "source": [
    "### Test"
   ]
  },
  {
   "cell_type": "code",
   "execution_count": 119,
   "id": "9080f889",
   "metadata": {},
   "outputs": [
    {
     "data": {
      "text/plain": [
       "state\n",
       "CA    60\n",
       "NY    47\n",
       "TX    32\n",
       "IL    24\n",
       "FL    22\n",
       "MA    22\n",
       "PA    18\n",
       "GA    15\n",
       "OH    14\n",
       "LA    13\n",
       "MI    13\n",
       "OK    13\n",
       "NJ    12\n",
       "VA    11\n",
       "MS    10\n",
       "WI    10\n",
       "TN     9\n",
       "IN     9\n",
       "AL     9\n",
       "MN     9\n",
       "KY     8\n",
       "NC     8\n",
       "WA     8\n",
       "MO     7\n",
       "NV     6\n",
       "ID     6\n",
       "KS     6\n",
       "NE     6\n",
       "IA     5\n",
       "SC     5\n",
       "CT     5\n",
       "AR     4\n",
       "RI     4\n",
       "ME     4\n",
       "CO     4\n",
       "ND     4\n",
       "AZ     4\n",
       "OR     3\n",
       "MD     3\n",
       "SD     3\n",
       "DE     3\n",
       "WV     3\n",
       "MT     2\n",
       "VT     2\n",
       "DC     2\n",
       "NM     1\n",
       "WY     1\n",
       "AK     1\n",
       "NH     1\n",
       "Name: count, dtype: int64"
      ]
     },
     "execution_count": 119,
     "metadata": {},
     "output_type": "execute_result"
    }
   ],
   "source": [
    "patients_clean.state.value_counts()"
   ]
  },
  {
   "cell_type": "markdown",
   "id": "a1b25d31",
   "metadata": {},
   "source": [
    "\n",
    "### Dsvid Gustafsson\n",
    "### Define\n",
    "Replace given name for rows in the `patients` table that have a given name of 'Dsvid' with 'David'.\n",
    "\n",
    "### Code"
   ]
  },
  {
   "cell_type": "code",
   "execution_count": 120,
   "id": "52782328",
   "metadata": {},
   "outputs": [],
   "source": [
    "patients_clean.given_name.replace('Dsvid', 'David', inplace=True)"
   ]
  },
  {
   "cell_type": "markdown",
   "id": "c2ed9f3c",
   "metadata": {},
   "source": [
    "### Test"
   ]
  },
  {
   "cell_type": "code",
   "execution_count": 121,
   "id": "ecb96ea9",
   "metadata": {},
   "outputs": [
    {
     "data": {
      "text/html": [
       "<div>\n",
       "<style scoped>\n",
       "    .dataframe tbody tr th:only-of-type {\n",
       "        vertical-align: middle;\n",
       "    }\n",
       "\n",
       "    .dataframe tbody tr th {\n",
       "        vertical-align: top;\n",
       "    }\n",
       "\n",
       "    .dataframe thead th {\n",
       "        text-align: right;\n",
       "    }\n",
       "</style>\n",
       "<table border=\"1\" class=\"dataframe\">\n",
       "  <thead>\n",
       "    <tr style=\"text-align: right;\">\n",
       "      <th></th>\n",
       "      <th>patient_id</th>\n",
       "      <th>assigned_sex</th>\n",
       "      <th>given_name</th>\n",
       "      <th>surname</th>\n",
       "      <th>address</th>\n",
       "      <th>city</th>\n",
       "      <th>state</th>\n",
       "      <th>zip_code</th>\n",
       "      <th>country</th>\n",
       "      <th>birthdate</th>\n",
       "      <th>weight</th>\n",
       "      <th>height</th>\n",
       "      <th>bmi</th>\n",
       "      <th>phone_number</th>\n",
       "      <th>email</th>\n",
       "    </tr>\n",
       "  </thead>\n",
       "  <tbody>\n",
       "  </tbody>\n",
       "</table>\n",
       "</div>"
      ],
      "text/plain": [
       "Empty DataFrame\n",
       "Columns: [patient_id, assigned_sex, given_name, surname, address, city, state, zip_code, country, birthdate, weight, height, bmi, phone_number, email]\n",
       "Index: []"
      ]
     },
     "execution_count": 121,
     "metadata": {},
     "output_type": "execute_result"
    }
   ],
   "source": [
    "patients_clean.query('given_name == \"Dsvid\"')"
   ]
  },
  {
   "cell_type": "code",
   "execution_count": 122,
   "id": "9b591e9b",
   "metadata": {},
   "outputs": [
    {
     "data": {
      "text/plain": [
       "8    David\n",
       "Name: given_name, dtype: object"
      ]
     },
     "execution_count": 122,
     "metadata": {},
     "output_type": "execute_result"
    }
   ],
   "source": [
    "patients_clean.query('surname == \"Gustafsson\"').given_name"
   ]
  },
  {
   "cell_type": "markdown",
   "id": "cbb2174c",
   "metadata": {},
   "source": [
    "### Erroneous datatypes (assigned sex, state, zip_code, and birthdate columns) and Erroneous datatypes (auralin and novodra columns) and The letter 'u' in starting and ending doses for Auralin and Novodra\n",
    "### Define\n",
    "Convert assigned sex and state to categorical data types. Zip code data type was already addressed above. Convert birthdate to datetime data type. Strip the letter 'u' in start dose and end dose and convert those columns to data type integer.\n",
    "\n",
    "### Code"
   ]
  },
  {
   "cell_type": "code",
   "execution_count": 133,
   "id": "104f283f",
   "metadata": {},
   "outputs": [],
   "source": [
    "patients_clean.assigned_sex = patients_clean.assigned_sex.astype('category')\n",
    "patients_clean.state = patients_clean.state.astype('category')\n",
    "\n",
    "patients_clean['birthdate'] = pd.to_datetime(patients_clean['birthdate'])\n",
    "\n",
    "treatments_clean['start'] = treatments_clean['start'].str.replace(r'[^\\d]', '', regex=True).astype(int)\n",
    "treatments_clean['end'] = treatments_clean['end'].str.replace(r'[^\\d]', '', regex=True).astype(int)"
   ]
  },
  {
   "cell_type": "markdown",
   "id": "67845d68",
   "metadata": {},
   "source": [
    "### Test"
   ]
  },
  {
   "cell_type": "code",
   "execution_count": 135,
   "id": "09ce9ce7",
   "metadata": {},
   "outputs": [
    {
     "name": "stdout",
     "output_type": "stream",
     "text": [
      "<class 'pandas.core.frame.DataFrame'>\n",
      "RangeIndex: 503 entries, 0 to 502\n",
      "Data columns (total 15 columns):\n",
      " #   Column        Non-Null Count  Dtype         \n",
      "---  ------        --------------  -----         \n",
      " 0   patient_id    503 non-null    int64         \n",
      " 1   assigned_sex  503 non-null    category      \n",
      " 2   given_name    503 non-null    object        \n",
      " 3   surname       503 non-null    object        \n",
      " 4   address       491 non-null    object        \n",
      " 5   city          491 non-null    object        \n",
      " 6   state         491 non-null    category      \n",
      " 7   zip_code      503 non-null    object        \n",
      " 8   country       491 non-null    object        \n",
      " 9   birthdate     503 non-null    datetime64[ns]\n",
      " 10  weight        503 non-null    float64       \n",
      " 11  height        503 non-null    int64         \n",
      " 12  bmi           503 non-null    float64       \n",
      " 13  phone_number  491 non-null    object        \n",
      " 14  email         491 non-null    object        \n",
      "dtypes: category(2), datetime64[ns](1), float64(2), int64(2), object(8)\n",
      "memory usage: 53.7+ KB\n"
     ]
    }
   ],
   "source": [
    "patients_clean.info()"
   ]
  },
  {
   "cell_type": "code",
   "execution_count": 136,
   "id": "3d3e53d7",
   "metadata": {},
   "outputs": [
    {
     "data": {
      "text/html": [
       "<div>\n",
       "<style scoped>\n",
       "    .dataframe tbody tr th:only-of-type {\n",
       "        vertical-align: middle;\n",
       "    }\n",
       "\n",
       "    .dataframe tbody tr th {\n",
       "        vertical-align: top;\n",
       "    }\n",
       "\n",
       "    .dataframe thead th {\n",
       "        text-align: right;\n",
       "    }\n",
       "</style>\n",
       "<table border=\"1\" class=\"dataframe\">\n",
       "  <thead>\n",
       "    <tr style=\"text-align: right;\">\n",
       "      <th></th>\n",
       "      <th>start</th>\n",
       "      <th>end</th>\n",
       "    </tr>\n",
       "  </thead>\n",
       "  <tbody>\n",
       "    <tr>\n",
       "      <th>0</th>\n",
       "      <td>41</td>\n",
       "      <td>48</td>\n",
       "    </tr>\n",
       "    <tr>\n",
       "      <th>1</th>\n",
       "      <td>33</td>\n",
       "      <td>36</td>\n",
       "    </tr>\n",
       "    <tr>\n",
       "      <th>2</th>\n",
       "      <td>37</td>\n",
       "      <td>42</td>\n",
       "    </tr>\n",
       "    <tr>\n",
       "      <th>3</th>\n",
       "      <td>31</td>\n",
       "      <td>38</td>\n",
       "    </tr>\n",
       "    <tr>\n",
       "      <th>4</th>\n",
       "      <td>30</td>\n",
       "      <td>36</td>\n",
       "    </tr>\n",
       "  </tbody>\n",
       "</table>\n",
       "</div>"
      ],
      "text/plain": [
       "   start  end\n",
       "0     41   48\n",
       "1     33   36\n",
       "2     37   42\n",
       "3     31   38\n",
       "4     30   36"
      ]
     },
     "execution_count": 136,
     "metadata": {},
     "output_type": "execute_result"
    }
   ],
   "source": [
    "treatments_clean[['start', 'end']].head()"
   ]
  },
  {
   "cell_type": "code",
   "execution_count": 137,
   "id": "4b0256a7",
   "metadata": {},
   "outputs": [
    {
     "name": "stdout",
     "output_type": "stream",
     "text": [
      "<class 'pandas.core.frame.DataFrame'>\n",
      "RangeIndex: 349 entries, 0 to 348\n",
      "Data columns (total 8 columns):\n",
      " #   Column            Non-Null Count  Dtype  \n",
      "---  ------            --------------  -----  \n",
      " 0   hba1c_start       349 non-null    float64\n",
      " 1   hba1c_end         349 non-null    float64\n",
      " 2   hba1c_change      349 non-null    float64\n",
      " 3   treatment         349 non-null    object \n",
      " 4   start             349 non-null    int64  \n",
      " 5   end               349 non-null    int64  \n",
      " 6   adverse_reaction  35 non-null     object \n",
      " 7   patient_id        349 non-null    int64  \n",
      "dtypes: float64(3), int64(3), object(2)\n",
      "memory usage: 21.9+ KB\n"
     ]
    }
   ],
   "source": [
    "\n",
    "treatments_clean.info()"
   ]
  },
  {
   "cell_type": "markdown",
   "id": "d284e059",
   "metadata": {},
   "source": [
    "### Multiple phone number formats\n",
    "### Define\n",
    "- Strip all \" \", \"-\", \"(\", \")\", and \"+\" and store each number without any formatting. Pad the phone number with a 1 if the length of the number is 10 digits (we want country code). \n",
    "\n",
    "### code"
   ]
  },
  {
   "cell_type": "code",
   "execution_count": 140,
   "id": "933b72e1",
   "metadata": {},
   "outputs": [],
   "source": [
    "patients_clean.phone_number = patients_clean.phone_number.str.replace(r'\\D+', '', regex=True).str.pad(11, fillchar='1')\n"
   ]
  },
  {
   "cell_type": "markdown",
   "id": "b0cf0d3d",
   "metadata": {},
   "source": [
    "### Test"
   ]
  },
  {
   "cell_type": "code",
   "execution_count": 141,
   "id": "52e36af9",
   "metadata": {},
   "outputs": [
    {
     "data": {
      "text/plain": [
       "0    19517199170\n",
       "1    12175693204\n",
       "2    14023636804\n",
       "3    17326368246\n",
       "4    13345157487\n",
       "Name: phone_number, dtype: object"
      ]
     },
     "execution_count": 141,
     "metadata": {},
     "output_type": "execute_result"
    }
   ],
   "source": [
    "patients_clean.phone_number.head()\n"
   ]
  },
  {
   "cell_type": "markdown",
   "id": "05777255",
   "metadata": {},
   "source": [
    "### Default John Doe data\n",
    "\n",
    "### Define\n",
    "Remove the non-recoverable John Doe records from the `patients` table.\n",
    "### Code\n"
   ]
  },
  {
   "cell_type": "code",
   "execution_count": 142,
   "id": "3ddc0587",
   "metadata": {},
   "outputs": [],
   "source": [
    "\n",
    "patients_clean = patients_clean[patients_clean.surname != 'Doe']"
   ]
  },
  {
   "cell_type": "markdown",
   "id": "00b3004f",
   "metadata": {},
   "source": [
    "### Test"
   ]
  },
  {
   "cell_type": "code",
   "execution_count": 143,
   "id": "02148a9e",
   "metadata": {},
   "outputs": [
    {
     "data": {
      "text/html": [
       "<div>\n",
       "<style scoped>\n",
       "    .dataframe tbody tr th:only-of-type {\n",
       "        vertical-align: middle;\n",
       "    }\n",
       "\n",
       "    .dataframe tbody tr th {\n",
       "        vertical-align: top;\n",
       "    }\n",
       "\n",
       "    .dataframe thead th {\n",
       "        text-align: right;\n",
       "    }\n",
       "</style>\n",
       "<table border=\"1\" class=\"dataframe\">\n",
       "  <thead>\n",
       "    <tr style=\"text-align: right;\">\n",
       "      <th></th>\n",
       "      <th>patient_id</th>\n",
       "      <th>assigned_sex</th>\n",
       "      <th>given_name</th>\n",
       "      <th>surname</th>\n",
       "      <th>address</th>\n",
       "      <th>city</th>\n",
       "      <th>state</th>\n",
       "      <th>zip_code</th>\n",
       "      <th>country</th>\n",
       "      <th>birthdate</th>\n",
       "      <th>weight</th>\n",
       "      <th>height</th>\n",
       "      <th>bmi</th>\n",
       "      <th>phone_number</th>\n",
       "      <th>email</th>\n",
       "    </tr>\n",
       "  </thead>\n",
       "  <tbody>\n",
       "  </tbody>\n",
       "</table>\n",
       "</div>"
      ],
      "text/plain": [
       "Empty DataFrame\n",
       "Columns: [patient_id, assigned_sex, given_name, surname, address, city, state, zip_code, country, birthdate, weight, height, bmi, phone_number, email]\n",
       "Index: []"
      ]
     },
     "execution_count": 143,
     "metadata": {},
     "output_type": "execute_result"
    }
   ],
   "source": [
    "patients_clean[patients_clean.surname == 'Doe']"
   ]
  },
  {
   "cell_type": "markdown",
   "id": "8ae76f8a",
   "metadata": {},
   "source": [
    "\n",
    "### Multiple records for Jakobsen, Gersten, Taylor\n",
    "### Define\n",
    "- Remove the Jake Jakobsen, Pat Gersten, and Sandy Taylor rows from the patients table. These are the nicknames, which happen to also not be in the treatments table (removing the wrong name would create a consistency issue between the patients and treatments table). These are all the second occurrence of the duplicate. These are also the only occurences of non-null duplicate addresses.\n",
    "### Code"
   ]
  },
  {
   "cell_type": "code",
   "execution_count": 144,
   "id": "6e2d64ec",
   "metadata": {},
   "outputs": [],
   "source": [
    "patients_clean = patients_clean[~((patients_clean.address.duplicated()) & patients_clean.address.notnull())]\n"
   ]
  },
  {
   "cell_type": "markdown",
   "id": "079ceb73",
   "metadata": {},
   "source": [
    "### Test"
   ]
  },
  {
   "cell_type": "code",
   "execution_count": 145,
   "id": "c1538c62",
   "metadata": {},
   "outputs": [
    {
     "data": {
      "text/html": [
       "<div>\n",
       "<style scoped>\n",
       "    .dataframe tbody tr th:only-of-type {\n",
       "        vertical-align: middle;\n",
       "    }\n",
       "\n",
       "    .dataframe tbody tr th {\n",
       "        vertical-align: top;\n",
       "    }\n",
       "\n",
       "    .dataframe thead th {\n",
       "        text-align: right;\n",
       "    }\n",
       "</style>\n",
       "<table border=\"1\" class=\"dataframe\">\n",
       "  <thead>\n",
       "    <tr style=\"text-align: right;\">\n",
       "      <th></th>\n",
       "      <th>patient_id</th>\n",
       "      <th>assigned_sex</th>\n",
       "      <th>given_name</th>\n",
       "      <th>surname</th>\n",
       "      <th>address</th>\n",
       "      <th>city</th>\n",
       "      <th>state</th>\n",
       "      <th>zip_code</th>\n",
       "      <th>country</th>\n",
       "      <th>birthdate</th>\n",
       "      <th>weight</th>\n",
       "      <th>height</th>\n",
       "      <th>bmi</th>\n",
       "      <th>phone_number</th>\n",
       "      <th>email</th>\n",
       "    </tr>\n",
       "  </thead>\n",
       "  <tbody>\n",
       "    <tr>\n",
       "      <th>24</th>\n",
       "      <td>25</td>\n",
       "      <td>male</td>\n",
       "      <td>Jakob</td>\n",
       "      <td>Jakobsen</td>\n",
       "      <td>648 Old Dear Lane</td>\n",
       "      <td>Port Jervis</td>\n",
       "      <td>NY</td>\n",
       "      <td>12771</td>\n",
       "      <td>United States</td>\n",
       "      <td>1985-08-01</td>\n",
       "      <td>155.8</td>\n",
       "      <td>67</td>\n",
       "      <td>24.4</td>\n",
       "      <td>18458587707</td>\n",
       "      <td>JakobCJakobsen@einrot.com</td>\n",
       "    </tr>\n",
       "    <tr>\n",
       "      <th>432</th>\n",
       "      <td>433</td>\n",
       "      <td>female</td>\n",
       "      <td>Karen</td>\n",
       "      <td>Jakobsen</td>\n",
       "      <td>1690 Fannie Street</td>\n",
       "      <td>Houston</td>\n",
       "      <td>TX</td>\n",
       "      <td>77020</td>\n",
       "      <td>United States</td>\n",
       "      <td>1962-11-25</td>\n",
       "      <td>185.2</td>\n",
       "      <td>67</td>\n",
       "      <td>29.0</td>\n",
       "      <td>19792030438</td>\n",
       "      <td>KarenJakobsen@jourrapide.com</td>\n",
       "    </tr>\n",
       "  </tbody>\n",
       "</table>\n",
       "</div>"
      ],
      "text/plain": [
       "     patient_id assigned_sex given_name   surname             address  \\\n",
       "24           25         male      Jakob  Jakobsen   648 Old Dear Lane   \n",
       "432         433       female      Karen  Jakobsen  1690 Fannie Street   \n",
       "\n",
       "            city state zip_code        country  birthdate  weight  height  \\\n",
       "24   Port Jervis    NY    12771  United States 1985-08-01   155.8      67   \n",
       "432      Houston    TX    77020  United States 1962-11-25   185.2      67   \n",
       "\n",
       "      bmi phone_number                         email  \n",
       "24   24.4  18458587707     JakobCJakobsen@einrot.com  \n",
       "432  29.0  19792030438  KarenJakobsen@jourrapide.com  "
      ]
     },
     "execution_count": 145,
     "metadata": {},
     "output_type": "execute_result"
    }
   ],
   "source": [
    "patients_clean[patients_clean.surname == 'Jakobsen']\n"
   ]
  },
  {
   "cell_type": "code",
   "execution_count": 146,
   "id": "27257920",
   "metadata": {},
   "outputs": [
    {
     "data": {
      "text/html": [
       "<div>\n",
       "<style scoped>\n",
       "    .dataframe tbody tr th:only-of-type {\n",
       "        vertical-align: middle;\n",
       "    }\n",
       "\n",
       "    .dataframe tbody tr th {\n",
       "        vertical-align: top;\n",
       "    }\n",
       "\n",
       "    .dataframe thead th {\n",
       "        text-align: right;\n",
       "    }\n",
       "</style>\n",
       "<table border=\"1\" class=\"dataframe\">\n",
       "  <thead>\n",
       "    <tr style=\"text-align: right;\">\n",
       "      <th></th>\n",
       "      <th>patient_id</th>\n",
       "      <th>assigned_sex</th>\n",
       "      <th>given_name</th>\n",
       "      <th>surname</th>\n",
       "      <th>address</th>\n",
       "      <th>city</th>\n",
       "      <th>state</th>\n",
       "      <th>zip_code</th>\n",
       "      <th>country</th>\n",
       "      <th>birthdate</th>\n",
       "      <th>weight</th>\n",
       "      <th>height</th>\n",
       "      <th>bmi</th>\n",
       "      <th>phone_number</th>\n",
       "      <th>email</th>\n",
       "    </tr>\n",
       "  </thead>\n",
       "  <tbody>\n",
       "    <tr>\n",
       "      <th>97</th>\n",
       "      <td>98</td>\n",
       "      <td>male</td>\n",
       "      <td>Patrick</td>\n",
       "      <td>Gersten</td>\n",
       "      <td>2778 North Avenue</td>\n",
       "      <td>Burr</td>\n",
       "      <td>NE</td>\n",
       "      <td>68324</td>\n",
       "      <td>United States</td>\n",
       "      <td>1954-05-03</td>\n",
       "      <td>138.2</td>\n",
       "      <td>71</td>\n",
       "      <td>19.3</td>\n",
       "      <td>14028484923</td>\n",
       "      <td>PatrickGersten@rhyta.com</td>\n",
       "    </tr>\n",
       "  </tbody>\n",
       "</table>\n",
       "</div>"
      ],
      "text/plain": [
       "    patient_id assigned_sex given_name  surname            address  city  \\\n",
       "97          98         male    Patrick  Gersten  2778 North Avenue  Burr   \n",
       "\n",
       "   state zip_code        country  birthdate  weight  height   bmi  \\\n",
       "97    NE    68324  United States 1954-05-03   138.2      71  19.3   \n",
       "\n",
       "   phone_number                     email  \n",
       "97  14028484923  PatrickGersten@rhyta.com  "
      ]
     },
     "execution_count": 146,
     "metadata": {},
     "output_type": "execute_result"
    }
   ],
   "source": [
    "\n",
    "patients_clean[patients_clean.surname == 'Gersten']"
   ]
  },
  {
   "cell_type": "code",
   "execution_count": 147,
   "id": "a8fdd195",
   "metadata": {},
   "outputs": [
    {
     "data": {
      "text/html": [
       "<div>\n",
       "<style scoped>\n",
       "    .dataframe tbody tr th:only-of-type {\n",
       "        vertical-align: middle;\n",
       "    }\n",
       "\n",
       "    .dataframe tbody tr th {\n",
       "        vertical-align: top;\n",
       "    }\n",
       "\n",
       "    .dataframe thead th {\n",
       "        text-align: right;\n",
       "    }\n",
       "</style>\n",
       "<table border=\"1\" class=\"dataframe\">\n",
       "  <thead>\n",
       "    <tr style=\"text-align: right;\">\n",
       "      <th></th>\n",
       "      <th>patient_id</th>\n",
       "      <th>assigned_sex</th>\n",
       "      <th>given_name</th>\n",
       "      <th>surname</th>\n",
       "      <th>address</th>\n",
       "      <th>city</th>\n",
       "      <th>state</th>\n",
       "      <th>zip_code</th>\n",
       "      <th>country</th>\n",
       "      <th>birthdate</th>\n",
       "      <th>weight</th>\n",
       "      <th>height</th>\n",
       "      <th>bmi</th>\n",
       "      <th>phone_number</th>\n",
       "      <th>email</th>\n",
       "    </tr>\n",
       "  </thead>\n",
       "  <tbody>\n",
       "    <tr>\n",
       "      <th>131</th>\n",
       "      <td>132</td>\n",
       "      <td>female</td>\n",
       "      <td>Sandra</td>\n",
       "      <td>Taylor</td>\n",
       "      <td>2476 Fulton Street</td>\n",
       "      <td>Rainelle</td>\n",
       "      <td>WV</td>\n",
       "      <td>25962</td>\n",
       "      <td>United States</td>\n",
       "      <td>1960-10-23</td>\n",
       "      <td>206.1</td>\n",
       "      <td>64</td>\n",
       "      <td>35.4</td>\n",
       "      <td>13044382648</td>\n",
       "      <td>SandraCTaylor@dayrep.com</td>\n",
       "    </tr>\n",
       "    <tr>\n",
       "      <th>426</th>\n",
       "      <td>427</td>\n",
       "      <td>male</td>\n",
       "      <td>Rogelio</td>\n",
       "      <td>Taylor</td>\n",
       "      <td>4064 Marigold Lane</td>\n",
       "      <td>Miami</td>\n",
       "      <td>FL</td>\n",
       "      <td>33179</td>\n",
       "      <td>United States</td>\n",
       "      <td>1992-09-02</td>\n",
       "      <td>186.6</td>\n",
       "      <td>69</td>\n",
       "      <td>27.6</td>\n",
       "      <td>13054346299</td>\n",
       "      <td>RogelioJTaylor@teleworm.us</td>\n",
       "    </tr>\n",
       "  </tbody>\n",
       "</table>\n",
       "</div>"
      ],
      "text/plain": [
       "     patient_id assigned_sex given_name surname             address      city  \\\n",
       "131         132       female     Sandra  Taylor  2476 Fulton Street  Rainelle   \n",
       "426         427         male    Rogelio  Taylor  4064 Marigold Lane     Miami   \n",
       "\n",
       "    state zip_code        country  birthdate  weight  height   bmi  \\\n",
       "131    WV    25962  United States 1960-10-23   206.1      64  35.4   \n",
       "426    FL    33179  United States 1992-09-02   186.6      69  27.6   \n",
       "\n",
       "    phone_number                       email  \n",
       "131  13044382648    SandraCTaylor@dayrep.com  \n",
       "426  13054346299  RogelioJTaylor@teleworm.us  "
      ]
     },
     "execution_count": 147,
     "metadata": {},
     "output_type": "execute_result"
    }
   ],
   "source": [
    "\n",
    "patients_clean[patients_clean.surname == 'Taylor']"
   ]
  },
  {
   "cell_type": "markdown",
   "id": "dc7b3d01",
   "metadata": {},
   "source": [
    "### kgs instead of lbs for Zaitseva weight\n",
    "### Define\n",
    "Use advanced indexing to isolate the row where the surname is Zaitseva and convert the entry in its weight field from kg to lbs.\n",
    "\n",
    "### Code"
   ]
  },
  {
   "cell_type": "code",
   "execution_count": 148,
   "id": "ef299f7c",
   "metadata": {},
   "outputs": [],
   "source": [
    "\n",
    "weight_kg = patients_clean.weight.min()\n",
    "mask = patients_clean.surname == 'Zaitseva'\n",
    "column_name = 'weight'\n",
    "patients_clean.loc[mask, column_name] = weight_kg * 2.20462"
   ]
  },
  {
   "cell_type": "markdown",
   "id": "fb5a542c",
   "metadata": {},
   "source": [
    "### Test"
   ]
  },
  {
   "cell_type": "code",
   "execution_count": 149,
   "id": "dec0d9af",
   "metadata": {},
   "outputs": [
    {
     "data": {
      "text/plain": [
       "np.float64(102.1)"
      ]
     },
     "execution_count": 149,
     "metadata": {},
     "output_type": "execute_result"
    }
   ],
   "source": [
    "patients_clean.weight.min()"
   ]
  }
 ],
 "metadata": {
  "kernelspec": {
   "display_name": "venv",
   "language": "python",
   "name": "python3"
  },
  "language_info": {
   "codemirror_mode": {
    "name": "ipython",
    "version": 3
   },
   "file_extension": ".py",
   "mimetype": "text/x-python",
   "name": "python",
   "nbconvert_exporter": "python",
   "pygments_lexer": "ipython3",
   "version": "3.13.4"
  }
 },
 "nbformat": 4,
 "nbformat_minor": 5
}
